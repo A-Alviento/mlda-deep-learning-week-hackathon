{
  "cells": [
    {
      "cell_type": "markdown",
      "metadata": {
        "id": "view-in-github",
        "colab_type": "text"
      },
      "source": [
        "<a href=\"https://colab.research.google.com/github/A-Alviento/mlda-deep-learning-week-hackathon/blob/main/spam_message_detector_nlp.ipynb\" target=\"_parent\"><img src=\"https://colab.research.google.com/assets/colab-badge.svg\" alt=\"Open In Colab\"/></a>"
      ]
    },
    {
      "cell_type": "markdown",
      "metadata": {
        "id": "whG5oIEixtJE"
      },
      "source": [
        "# **Library Imports**"
      ]
    },
    {
      "cell_type": "code",
      "source": [
        "! pip list | grep gensim\n",
        "! python --version"
      ],
      "metadata": {
        "colab": {
          "base_uri": "https://localhost:8080/"
        },
        "id": "taIubaLqVfA8",
        "outputId": "0fa09169-4103-4343-9e2f-1cdc61c2b76c"
      },
      "execution_count": null,
      "outputs": [
        {
          "output_type": "stream",
          "name": "stdout",
          "text": [
            "gensim                        3.6.0\n",
            "Python 3.7.14\n"
          ]
        }
      ]
    },
    {
      "cell_type": "code",
      "execution_count": 2,
      "metadata": {
        "id": "QdhNqhoexvM8"
      },
      "outputs": [],
      "source": [
        "import numpy as np\n",
        "import pandas as pd\n",
        "import re\n",
        "import nltk\n",
        "import seaborn as sns\n",
        "from wordcloud import WordCloud\n",
        "import matplotlib.pyplot as plt"
      ]
    },
    {
      "cell_type": "code",
      "execution_count": 3,
      "metadata": {
        "id": "WUYg5rKKyvZ4"
      },
      "outputs": [],
      "source": [
        "# tokenizer used to tokenize data\n",
        "from tensorflow.keras.preprocessing.text import Tokenizer\n",
        "# pad sequence used to pad datasets which are not long enough, need to pad for constant len input\n",
        "from tensorflow.keras.preprocessing.sequence import pad_sequences\n",
        "# sequential model to feeding our model layers\n",
        "from tensorflow.keras.models import Sequential\n",
        "# layers\n",
        "from tensorflow.keras.layers import Dense, Embedding, LSTM, Conv1D, MaxPool1D\n",
        "# train test split is to split data sets into training set and test set\n",
        "from sklearn.model_selection import train_test_split\n",
        "# accuracy report and accuracy score used to test model performance\n",
        "from sklearn.metrics import classification_report, accuracy_score"
      ]
    },
    {
      "cell_type": "markdown",
      "metadata": {
        "id": "Icy5ejF90DK6"
      },
      "source": [
        "# **Reading in the dataset**"
      ]
    },
    {
      "cell_type": "code",
      "execution_count": 4,
      "metadata": {
        "id": "9McMHoaW0I2u"
      },
      "outputs": [],
      "source": [
        "# read spam dataset into a frame data\n",
        "data = pd.read_csv(\"https://raw.githubusercontent.com/A-Alviento/mlda-deep-learning-week-hackathon/main/data/spam.csv\", encoding = \"ISO-8859-1\") "
      ]
    },
    {
      "cell_type": "code",
      "execution_count": 5,
      "metadata": {
        "id": "nP5ivD0n03N8",
        "colab": {
          "base_uri": "https://localhost:8080/",
          "height": 206
        },
        "outputId": "74cfd84c-5255-4bbb-bb80-4af98763173c"
      },
      "outputs": [
        {
          "output_type": "execute_result",
          "data": {
            "text/plain": [
              "     v1                                                 v2 Unnamed: 2  \\\n",
              "0   ham  Go until jurong point, crazy.. Available only ...        NaN   \n",
              "1   ham                      Ok lar... Joking wif u oni...        NaN   \n",
              "2  spam  Free entry in 2 a wkly comp to win FA Cup fina...        NaN   \n",
              "3   ham  U dun say so early hor... U c already then say...        NaN   \n",
              "4   ham  Nah I don't think he goes to usf, he lives aro...        NaN   \n",
              "\n",
              "  Unnamed: 3 Unnamed: 4  \n",
              "0        NaN        NaN  \n",
              "1        NaN        NaN  \n",
              "2        NaN        NaN  \n",
              "3        NaN        NaN  \n",
              "4        NaN        NaN  "
            ],
            "text/html": [
              "\n",
              "  <div id=\"df-c971f0d6-b066-4c34-b82e-07c060cb9f42\">\n",
              "    <div class=\"colab-df-container\">\n",
              "      <div>\n",
              "<style scoped>\n",
              "    .dataframe tbody tr th:only-of-type {\n",
              "        vertical-align: middle;\n",
              "    }\n",
              "\n",
              "    .dataframe tbody tr th {\n",
              "        vertical-align: top;\n",
              "    }\n",
              "\n",
              "    .dataframe thead th {\n",
              "        text-align: right;\n",
              "    }\n",
              "</style>\n",
              "<table border=\"1\" class=\"dataframe\">\n",
              "  <thead>\n",
              "    <tr style=\"text-align: right;\">\n",
              "      <th></th>\n",
              "      <th>v1</th>\n",
              "      <th>v2</th>\n",
              "      <th>Unnamed: 2</th>\n",
              "      <th>Unnamed: 3</th>\n",
              "      <th>Unnamed: 4</th>\n",
              "    </tr>\n",
              "  </thead>\n",
              "  <tbody>\n",
              "    <tr>\n",
              "      <th>0</th>\n",
              "      <td>ham</td>\n",
              "      <td>Go until jurong point, crazy.. Available only ...</td>\n",
              "      <td>NaN</td>\n",
              "      <td>NaN</td>\n",
              "      <td>NaN</td>\n",
              "    </tr>\n",
              "    <tr>\n",
              "      <th>1</th>\n",
              "      <td>ham</td>\n",
              "      <td>Ok lar... Joking wif u oni...</td>\n",
              "      <td>NaN</td>\n",
              "      <td>NaN</td>\n",
              "      <td>NaN</td>\n",
              "    </tr>\n",
              "    <tr>\n",
              "      <th>2</th>\n",
              "      <td>spam</td>\n",
              "      <td>Free entry in 2 a wkly comp to win FA Cup fina...</td>\n",
              "      <td>NaN</td>\n",
              "      <td>NaN</td>\n",
              "      <td>NaN</td>\n",
              "    </tr>\n",
              "    <tr>\n",
              "      <th>3</th>\n",
              "      <td>ham</td>\n",
              "      <td>U dun say so early hor... U c already then say...</td>\n",
              "      <td>NaN</td>\n",
              "      <td>NaN</td>\n",
              "      <td>NaN</td>\n",
              "    </tr>\n",
              "    <tr>\n",
              "      <th>4</th>\n",
              "      <td>ham</td>\n",
              "      <td>Nah I don't think he goes to usf, he lives aro...</td>\n",
              "      <td>NaN</td>\n",
              "      <td>NaN</td>\n",
              "      <td>NaN</td>\n",
              "    </tr>\n",
              "  </tbody>\n",
              "</table>\n",
              "</div>\n",
              "      <button class=\"colab-df-convert\" onclick=\"convertToInteractive('df-c971f0d6-b066-4c34-b82e-07c060cb9f42')\"\n",
              "              title=\"Convert this dataframe to an interactive table.\"\n",
              "              style=\"display:none;\">\n",
              "        \n",
              "  <svg xmlns=\"http://www.w3.org/2000/svg\" height=\"24px\"viewBox=\"0 0 24 24\"\n",
              "       width=\"24px\">\n",
              "    <path d=\"M0 0h24v24H0V0z\" fill=\"none\"/>\n",
              "    <path d=\"M18.56 5.44l.94 2.06.94-2.06 2.06-.94-2.06-.94-.94-2.06-.94 2.06-2.06.94zm-11 1L8.5 8.5l.94-2.06 2.06-.94-2.06-.94L8.5 2.5l-.94 2.06-2.06.94zm10 10l.94 2.06.94-2.06 2.06-.94-2.06-.94-.94-2.06-.94 2.06-2.06.94z\"/><path d=\"M17.41 7.96l-1.37-1.37c-.4-.4-.92-.59-1.43-.59-.52 0-1.04.2-1.43.59L10.3 9.45l-7.72 7.72c-.78.78-.78 2.05 0 2.83L4 21.41c.39.39.9.59 1.41.59.51 0 1.02-.2 1.41-.59l7.78-7.78 2.81-2.81c.8-.78.8-2.07 0-2.86zM5.41 20L4 18.59l7.72-7.72 1.47 1.35L5.41 20z\"/>\n",
              "  </svg>\n",
              "      </button>\n",
              "      \n",
              "  <style>\n",
              "    .colab-df-container {\n",
              "      display:flex;\n",
              "      flex-wrap:wrap;\n",
              "      gap: 12px;\n",
              "    }\n",
              "\n",
              "    .colab-df-convert {\n",
              "      background-color: #E8F0FE;\n",
              "      border: none;\n",
              "      border-radius: 50%;\n",
              "      cursor: pointer;\n",
              "      display: none;\n",
              "      fill: #1967D2;\n",
              "      height: 32px;\n",
              "      padding: 0 0 0 0;\n",
              "      width: 32px;\n",
              "    }\n",
              "\n",
              "    .colab-df-convert:hover {\n",
              "      background-color: #E2EBFA;\n",
              "      box-shadow: 0px 1px 2px rgba(60, 64, 67, 0.3), 0px 1px 3px 1px rgba(60, 64, 67, 0.15);\n",
              "      fill: #174EA6;\n",
              "    }\n",
              "\n",
              "    [theme=dark] .colab-df-convert {\n",
              "      background-color: #3B4455;\n",
              "      fill: #D2E3FC;\n",
              "    }\n",
              "\n",
              "    [theme=dark] .colab-df-convert:hover {\n",
              "      background-color: #434B5C;\n",
              "      box-shadow: 0px 1px 3px 1px rgba(0, 0, 0, 0.15);\n",
              "      filter: drop-shadow(0px 1px 2px rgba(0, 0, 0, 0.3));\n",
              "      fill: #FFFFFF;\n",
              "    }\n",
              "  </style>\n",
              "\n",
              "      <script>\n",
              "        const buttonEl =\n",
              "          document.querySelector('#df-c971f0d6-b066-4c34-b82e-07c060cb9f42 button.colab-df-convert');\n",
              "        buttonEl.style.display =\n",
              "          google.colab.kernel.accessAllowed ? 'block' : 'none';\n",
              "\n",
              "        async function convertToInteractive(key) {\n",
              "          const element = document.querySelector('#df-c971f0d6-b066-4c34-b82e-07c060cb9f42');\n",
              "          const dataTable =\n",
              "            await google.colab.kernel.invokeFunction('convertToInteractive',\n",
              "                                                     [key], {});\n",
              "          if (!dataTable) return;\n",
              "\n",
              "          const docLinkHtml = 'Like what you see? Visit the ' +\n",
              "            '<a target=\"_blank\" href=https://colab.research.google.com/notebooks/data_table.ipynb>data table notebook</a>'\n",
              "            + ' to learn more about interactive tables.';\n",
              "          element.innerHTML = '';\n",
              "          dataTable['output_type'] = 'display_data';\n",
              "          await google.colab.output.renderOutput(dataTable, element);\n",
              "          const docLink = document.createElement('div');\n",
              "          docLink.innerHTML = docLinkHtml;\n",
              "          element.appendChild(docLink);\n",
              "        }\n",
              "      </script>\n",
              "    </div>\n",
              "  </div>\n",
              "  "
            ]
          },
          "metadata": {},
          "execution_count": 5
        }
      ],
      "source": [
        "# show first few lines of spam data set\n",
        "data.head()"
      ]
    },
    {
      "cell_type": "code",
      "execution_count": 6,
      "metadata": {
        "colab": {
          "base_uri": "https://localhost:8080/"
        },
        "id": "8JXX2Fnn1BsP",
        "outputId": "7ef1a9e2-1d47-4d65-e6f7-0fad7de3eba7"
      },
      "outputs": [
        {
          "output_type": "execute_result",
          "data": {
            "text/plain": [
              "Index(['v1', 'v2', 'Unnamed: 2', 'Unnamed: 3', 'Unnamed: 4'], dtype='object')"
            ]
          },
          "metadata": {},
          "execution_count": 6
        }
      ],
      "source": [
        "# show column headings of the spam data set\n",
        "data.columns"
      ]
    },
    {
      "cell_type": "code",
      "execution_count": 7,
      "metadata": {
        "colab": {
          "base_uri": "https://localhost:8080/"
        },
        "id": "i9-qip2M1LRJ",
        "outputId": "bbec14a2-9c90-47f1-c8ed-e6ed0d777a9e"
      },
      "outputs": [
        {
          "output_type": "execute_result",
          "data": {
            "text/plain": [
              "ham     4825\n",
              "spam     747\n",
              "Name: v1, dtype: int64"
            ]
          },
          "metadata": {},
          "execution_count": 7
        }
      ],
      "source": [
        "# we can check how many types of \"hams\" and \"spams\"\n",
        "data['v1'].value_counts()"
      ]
    },
    {
      "cell_type": "code",
      "source": [
        "# make two arrays, one to indicate spam and another to store the sms\n",
        "spam_arr = data['v1'].tolist()\n",
        "data_list = data['v2'].tolist()\n",
        "\n",
        "# separate the data set into spam and ham\n",
        "spam = []\n",
        "ham = []\n",
        "\n",
        "for i in range(len(spam_arr)):\n",
        "  if spam_arr[i] == 'ham':\n",
        "    ham.append(data_list[i])\n",
        "  else:\n",
        "    spam.append(data_list[i])"
      ],
      "metadata": {
        "id": "JCxTE2A6vVrz"
      },
      "execution_count": 8,
      "outputs": []
    },
    {
      "cell_type": "markdown",
      "metadata": {
        "id": "ii4_T2Hw2Y8_"
      },
      "source": [
        "**Wordcloud (spam)**"
      ]
    },
    {
      "cell_type": "code",
      "execution_count": 9,
      "metadata": {
        "id": "bInRO-un2Rte"
      },
      "outputs": [],
      "source": [
        "# here we're going to use wordcloud to visualise text data\n",
        "\n",
        "# however, we don't want a list for our text data. we want it to be a single text data\n",
        "# what this code does is every list element is joined with a space\n",
        "text = ' '.join(spam)"
      ]
    },
    {
      "cell_type": "code",
      "execution_count": 10,
      "metadata": {
        "id": "WADLMb3K3hl6",
        "colab": {
          "base_uri": "https://localhost:8080/",
          "height": 436
        },
        "outputId": "cfcd3068-77af-45d0-e1b2-7297bfbad627"
      },
      "outputs": [
        {
          "output_type": "display_data",
          "data": {
            "text/plain": [
              "<Figure size 720x720 with 1 Axes>"
            ],
            "image/png": "[encoded data removed]"
          },
          "metadata": {
            "needs_background": "light"
          }
        }
      ],
      "source": [
        "# now we can use wordcloud\n",
        "\n",
        "wordcloud = WordCloud(width=1920, height=1080).generate(text)\n",
        "# visualise the wordcloud\n",
        "fig = plt.figure(figsize=(10,10))\n",
        "plt.imshow(wordcloud)\n",
        "# don't show axis\n",
        "plt.axis('off')\n",
        "# don't put padding\n",
        "plt.tight_layout(pad=0)\n",
        "plt.show()"
      ]
    },
    {
      "cell_type": "code",
      "source": [
        "!mkdir -p data\n",
        "wordcloud.to_file(\"./data/spam.png\")"
      ],
      "metadata": {
        "colab": {
          "base_uri": "https://localhost:8080/"
        },
        "id": "2EPTfYoPIkm6",
        "outputId": "d39b0e9b-9493-4d83-e82c-8735078bfab9"
      },
      "execution_count": null,
      "outputs": [
        {
          "output_type": "execute_result",
          "data": {
            "text/plain": [
              "<wordcloud.wordcloud.WordCloud at 0x7fea450084d0>"
            ]
          },
          "metadata": {},
          "execution_count": 21
        }
      ]
    },
    {
      "cell_type": "markdown",
      "source": [
        "**Wordcloud (ham)**"
      ],
      "metadata": {
        "id": "cASH84sLw9ot"
      }
    },
    {
      "cell_type": "code",
      "source": [
        "# here we're going to use wordcloud to visualise text data\n",
        "\n",
        "# however, we don't want a list for our text data. we want it to be a single text data\n",
        "# what this code does is every list element is joined with a space\n",
        "text = ' '.join(ham)"
      ],
      "metadata": {
        "id": "PkiLImCfxB9I"
      },
      "execution_count": 11,
      "outputs": []
    },
    {
      "cell_type": "code",
      "source": [
        "# now we can use wordcloud\n",
        "wordcloud = WordCloud(width=1920, height=1080).generate(text)\n",
        "wordcloud.to_file(\"./data/ham.png\")\n",
        "# visualise the wordcloud\n",
        "fig = plt.figure(figsize=(10,10))\n",
        "plt.imshow(wordcloud)\n",
        "# don't show axis\n",
        "plt.axis('off')\n",
        "# don't put padding\n",
        "plt.tight_layout(pad=0)\n",
        "plt.show()"
      ],
      "metadata": {
        "id": "j6vlAC7MxEvo",
        "colab": {
          "base_uri": "https://localhost:8080/",
          "height": 381
        },
        "outputId": "af08de46-1e9b-43f1-c580-1c7fccd6489a"
      },
      "execution_count": 12,
      "outputs": [
        {
          "output_type": "error",
          "ename": "FileNotFoundError",
          "evalue": "ignored",
          "traceback": [
            "\u001b[0;31m---------------------------------------------------------------------------\u001b[0m",
            "\u001b[0;31mFileNotFoundError\u001b[0m                         Traceback (most recent call last)",
            "\u001b[0;32m<ipython-input-12-615a6172d856>\u001b[0m in \u001b[0;36m<module>\u001b[0;34m\u001b[0m\n\u001b[1;32m      1\u001b[0m \u001b[0;31m# now we can use wordcloud\u001b[0m\u001b[0;34m\u001b[0m\u001b[0;34m\u001b[0m\u001b[0;34m\u001b[0m\u001b[0m\n\u001b[1;32m      2\u001b[0m \u001b[0mwordcloud\u001b[0m \u001b[0;34m=\u001b[0m \u001b[0mWordCloud\u001b[0m\u001b[0;34m(\u001b[0m\u001b[0mwidth\u001b[0m\u001b[0;34m=\u001b[0m\u001b[0;36m1920\u001b[0m\u001b[0;34m,\u001b[0m \u001b[0mheight\u001b[0m\u001b[0;34m=\u001b[0m\u001b[0;36m1080\u001b[0m\u001b[0;34m)\u001b[0m\u001b[0;34m.\u001b[0m\u001b[0mgenerate\u001b[0m\u001b[0;34m(\u001b[0m\u001b[0mtext\u001b[0m\u001b[0;34m)\u001b[0m\u001b[0;34m\u001b[0m\u001b[0;34m\u001b[0m\u001b[0m\n\u001b[0;32m----> 3\u001b[0;31m \u001b[0mwordcloud\u001b[0m\u001b[0;34m.\u001b[0m\u001b[0mto_file\u001b[0m\u001b[0;34m(\u001b[0m\u001b[0;34m\"./data/ham.png\"\u001b[0m\u001b[0;34m)\u001b[0m\u001b[0;34m\u001b[0m\u001b[0;34m\u001b[0m\u001b[0m\n\u001b[0m\u001b[1;32m      4\u001b[0m \u001b[0;31m# visualise the wordcloud\u001b[0m\u001b[0;34m\u001b[0m\u001b[0;34m\u001b[0m\u001b[0;34m\u001b[0m\u001b[0m\n\u001b[1;32m      5\u001b[0m \u001b[0mfig\u001b[0m \u001b[0;34m=\u001b[0m \u001b[0mplt\u001b[0m\u001b[0;34m.\u001b[0m\u001b[0mfigure\u001b[0m\u001b[0;34m(\u001b[0m\u001b[0mfigsize\u001b[0m\u001b[0;34m=\u001b[0m\u001b[0;34m(\u001b[0m\u001b[0;36m10\u001b[0m\u001b[0;34m,\u001b[0m\u001b[0;36m10\u001b[0m\u001b[0;34m)\u001b[0m\u001b[0;34m)\u001b[0m\u001b[0;34m\u001b[0m\u001b[0;34m\u001b[0m\u001b[0m\n",
            "\u001b[0;32m/usr/local/lib/python3.7/dist-packages/wordcloud/wordcloud.py\u001b[0m in \u001b[0;36mto_file\u001b[0;34m(self, filename)\u001b[0m\n\u001b[1;32m    724\u001b[0m \u001b[0;34m\u001b[0m\u001b[0m\n\u001b[1;32m    725\u001b[0m         \u001b[0mimg\u001b[0m \u001b[0;34m=\u001b[0m \u001b[0mself\u001b[0m\u001b[0;34m.\u001b[0m\u001b[0mto_image\u001b[0m\u001b[0;34m(\u001b[0m\u001b[0;34m)\u001b[0m\u001b[0;34m\u001b[0m\u001b[0;34m\u001b[0m\u001b[0m\n\u001b[0;32m--> 726\u001b[0;31m         \u001b[0mimg\u001b[0m\u001b[0;34m.\u001b[0m\u001b[0msave\u001b[0m\u001b[0;34m(\u001b[0m\u001b[0mfilename\u001b[0m\u001b[0;34m,\u001b[0m \u001b[0moptimize\u001b[0m\u001b[0;34m=\u001b[0m\u001b[0;32mTrue\u001b[0m\u001b[0;34m)\u001b[0m\u001b[0;34m\u001b[0m\u001b[0;34m\u001b[0m\u001b[0m\n\u001b[0m\u001b[1;32m    727\u001b[0m         \u001b[0;32mreturn\u001b[0m \u001b[0mself\u001b[0m\u001b[0;34m\u001b[0m\u001b[0;34m\u001b[0m\u001b[0m\n\u001b[1;32m    728\u001b[0m \u001b[0;34m\u001b[0m\u001b[0m\n",
            "\u001b[0;32m/usr/local/lib/python3.7/dist-packages/PIL/Image.py\u001b[0m in \u001b[0;36msave\u001b[0;34m(self, fp, format, **params)\u001b[0m\n\u001b[1;32m   2129\u001b[0m                 \u001b[0mfp\u001b[0m \u001b[0;34m=\u001b[0m \u001b[0mbuiltins\u001b[0m\u001b[0;34m.\u001b[0m\u001b[0mopen\u001b[0m\u001b[0;34m(\u001b[0m\u001b[0mfilename\u001b[0m\u001b[0;34m,\u001b[0m \u001b[0;34m\"r+b\"\u001b[0m\u001b[0;34m)\u001b[0m\u001b[0;34m\u001b[0m\u001b[0;34m\u001b[0m\u001b[0m\n\u001b[1;32m   2130\u001b[0m             \u001b[0;32melse\u001b[0m\u001b[0;34m:\u001b[0m\u001b[0;34m\u001b[0m\u001b[0;34m\u001b[0m\u001b[0m\n\u001b[0;32m-> 2131\u001b[0;31m                 \u001b[0mfp\u001b[0m \u001b[0;34m=\u001b[0m \u001b[0mbuiltins\u001b[0m\u001b[0;34m.\u001b[0m\u001b[0mopen\u001b[0m\u001b[0;34m(\u001b[0m\u001b[0mfilename\u001b[0m\u001b[0;34m,\u001b[0m \u001b[0;34m\"w+b\"\u001b[0m\u001b[0;34m)\u001b[0m\u001b[0;34m\u001b[0m\u001b[0;34m\u001b[0m\u001b[0m\n\u001b[0m\u001b[1;32m   2132\u001b[0m \u001b[0;34m\u001b[0m\u001b[0m\n\u001b[1;32m   2133\u001b[0m         \u001b[0;32mtry\u001b[0m\u001b[0;34m:\u001b[0m\u001b[0;34m\u001b[0m\u001b[0;34m\u001b[0m\u001b[0m\n",
            "\u001b[0;31mFileNotFoundError\u001b[0m: [Errno 2] No such file or directory: './data/ham.png'"
          ]
        }
      ]
    },
    {
      "cell_type": "code",
      "source": [
        "!mkdir -p data\n",
        "wordcloud.to_file(\"./data/ham.png\")"
      ],
      "metadata": {
        "colab": {
          "base_uri": "https://localhost:8080/"
        },
        "id": "d5mUJ_5OIt_F",
        "outputId": "c666db15-e7ad-4103-9d52-d26765deceac"
      },
      "execution_count": null,
      "outputs": [
        {
          "output_type": "execute_result",
          "data": {
            "text/plain": [
              "<wordcloud.wordcloud.WordCloud at 0x7fea450084d0>"
            ]
          },
          "metadata": {},
          "execution_count": 22
        }
      ]
    },
    {
      "cell_type": "markdown",
      "metadata": {
        "id": "KSz5NpQX6YGq"
      },
      "source": [
        "# **Cleaning Data Set**"
      ]
    },
    {
      "cell_type": "code",
      "source": [
        "# show us random 5 sms\n",
        "data.sample(5)"
      ],
      "metadata": {
        "colab": {
          "base_uri": "https://localhost:8080/",
          "height": 206
        },
        "id": "5mfUd3WOxsQB",
        "outputId": "e04f0f0e-1d35-4c38-89b2-331ef4678230"
      },
      "execution_count": null,
      "outputs": [
        {
          "output_type": "execute_result",
          "data": {
            "text/plain": [
              "        v1                                                 v2 Unnamed: 2  \\\n",
              "1415   ham  jay is snickering and tells me that x is total...        NaN   \n",
              "367   spam  here is your discount code rp176781. to stop f...        NaN   \n",
              "3472   ham                    you getting back any time soon?        NaN   \n",
              "1173   ham                         ìï dun need to pick ur gf?        NaN   \n",
              "391    ham  hey so this sat are we going for the intro pil...        NaN   \n",
              "\n",
              "     Unnamed: 3 Unnamed: 4  \n",
              "1415        NaN        NaN  \n",
              "367         NaN        NaN  \n",
              "3472        NaN        NaN  \n",
              "1173        NaN        NaN  \n",
              "391         NaN        NaN  "
            ],
            "text/html": [
              "\n",
              "  <div id=\"df-832f1ae1-80e0-47bd-bc75-fbb7b45c89e4\">\n",
              "    <div class=\"colab-df-container\">\n",
              "      <div>\n",
              "<style scoped>\n",
              "    .dataframe tbody tr th:only-of-type {\n",
              "        vertical-align: middle;\n",
              "    }\n",
              "\n",
              "    .dataframe tbody tr th {\n",
              "        vertical-align: top;\n",
              "    }\n",
              "\n",
              "    .dataframe thead th {\n",
              "        text-align: right;\n",
              "    }\n",
              "</style>\n",
              "<table border=\"1\" class=\"dataframe\">\n",
              "  <thead>\n",
              "    <tr style=\"text-align: right;\">\n",
              "      <th></th>\n",
              "      <th>v1</th>\n",
              "      <th>v2</th>\n",
              "      <th>Unnamed: 2</th>\n",
              "      <th>Unnamed: 3</th>\n",
              "      <th>Unnamed: 4</th>\n",
              "    </tr>\n",
              "  </thead>\n",
              "  <tbody>\n",
              "    <tr>\n",
              "      <th>1415</th>\n",
              "      <td>ham</td>\n",
              "      <td>jay is snickering and tells me that x is total...</td>\n",
              "      <td>NaN</td>\n",
              "      <td>NaN</td>\n",
              "      <td>NaN</td>\n",
              "    </tr>\n",
              "    <tr>\n",
              "      <th>367</th>\n",
              "      <td>spam</td>\n",
              "      <td>here is your discount code rp176781. to stop f...</td>\n",
              "      <td>NaN</td>\n",
              "      <td>NaN</td>\n",
              "      <td>NaN</td>\n",
              "    </tr>\n",
              "    <tr>\n",
              "      <th>3472</th>\n",
              "      <td>ham</td>\n",
              "      <td>you getting back any time soon?</td>\n",
              "      <td>NaN</td>\n",
              "      <td>NaN</td>\n",
              "      <td>NaN</td>\n",
              "    </tr>\n",
              "    <tr>\n",
              "      <th>1173</th>\n",
              "      <td>ham</td>\n",
              "      <td>ìï dun need to pick ur gf?</td>\n",
              "      <td>NaN</td>\n",
              "      <td>NaN</td>\n",
              "      <td>NaN</td>\n",
              "    </tr>\n",
              "    <tr>\n",
              "      <th>391</th>\n",
              "      <td>ham</td>\n",
              "      <td>hey so this sat are we going for the intro pil...</td>\n",
              "      <td>NaN</td>\n",
              "      <td>NaN</td>\n",
              "      <td>NaN</td>\n",
              "    </tr>\n",
              "  </tbody>\n",
              "</table>\n",
              "</div>\n",
              "      <button class=\"colab-df-convert\" onclick=\"convertToInteractive('df-832f1ae1-80e0-47bd-bc75-fbb7b45c89e4')\"\n",
              "              title=\"Convert this dataframe to an interactive table.\"\n",
              "              style=\"display:none;\">\n",
              "        \n",
              "  <svg xmlns=\"http://www.w3.org/2000/svg\" height=\"24px\"viewBox=\"0 0 24 24\"\n",
              "       width=\"24px\">\n",
              "    <path d=\"M0 0h24v24H0V0z\" fill=\"none\"/>\n",
              "    <path d=\"M18.56 5.44l.94 2.06.94-2.06 2.06-.94-2.06-.94-.94-2.06-.94 2.06-2.06.94zm-11 1L8.5 8.5l.94-2.06 2.06-.94-2.06-.94L8.5 2.5l-.94 2.06-2.06.94zm10 10l.94 2.06.94-2.06 2.06-.94-2.06-.94-.94-2.06-.94 2.06-2.06.94z\"/><path d=\"M17.41 7.96l-1.37-1.37c-.4-.4-.92-.59-1.43-.59-.52 0-1.04.2-1.43.59L10.3 9.45l-7.72 7.72c-.78.78-.78 2.05 0 2.83L4 21.41c.39.39.9.59 1.41.59.51 0 1.02-.2 1.41-.59l7.78-7.78 2.81-2.81c.8-.78.8-2.07 0-2.86zM5.41 20L4 18.59l7.72-7.72 1.47 1.35L5.41 20z\"/>\n",
              "  </svg>\n",
              "      </button>\n",
              "      \n",
              "  <style>\n",
              "    .colab-df-container {\n",
              "      display:flex;\n",
              "      flex-wrap:wrap;\n",
              "      gap: 12px;\n",
              "    }\n",
              "\n",
              "    .colab-df-convert {\n",
              "      background-color: #E8F0FE;\n",
              "      border: none;\n",
              "      border-radius: 50%;\n",
              "      cursor: pointer;\n",
              "      display: none;\n",
              "      fill: #1967D2;\n",
              "      height: 32px;\n",
              "      padding: 0 0 0 0;\n",
              "      width: 32px;\n",
              "    }\n",
              "\n",
              "    .colab-df-convert:hover {\n",
              "      background-color: #E2EBFA;\n",
              "      box-shadow: 0px 1px 2px rgba(60, 64, 67, 0.3), 0px 1px 3px 1px rgba(60, 64, 67, 0.15);\n",
              "      fill: #174EA6;\n",
              "    }\n",
              "\n",
              "    [theme=dark] .colab-df-convert {\n",
              "      background-color: #3B4455;\n",
              "      fill: #D2E3FC;\n",
              "    }\n",
              "\n",
              "    [theme=dark] .colab-df-convert:hover {\n",
              "      background-color: #434B5C;\n",
              "      box-shadow: 0px 1px 3px 1px rgba(0, 0, 0, 0.15);\n",
              "      filter: drop-shadow(0px 1px 2px rgba(0, 0, 0, 0.3));\n",
              "      fill: #FFFFFF;\n",
              "    }\n",
              "  </style>\n",
              "\n",
              "      <script>\n",
              "        const buttonEl =\n",
              "          document.querySelector('#df-832f1ae1-80e0-47bd-bc75-fbb7b45c89e4 button.colab-df-convert');\n",
              "        buttonEl.style.display =\n",
              "          google.colab.kernel.accessAllowed ? 'block' : 'none';\n",
              "\n",
              "        async function convertToInteractive(key) {\n",
              "          const element = document.querySelector('#df-832f1ae1-80e0-47bd-bc75-fbb7b45c89e4');\n",
              "          const dataTable =\n",
              "            await google.colab.kernel.invokeFunction('convertToInteractive',\n",
              "                                                     [key], {});\n",
              "          if (!dataTable) return;\n",
              "\n",
              "          const docLinkHtml = 'Like what you see? Visit the ' +\n",
              "            '<a target=\"_blank\" href=https://colab.research.google.com/notebooks/data_table.ipynb>data table notebook</a>'\n",
              "            + ' to learn more about interactive tables.';\n",
              "          element.innerHTML = '';\n",
              "          dataTable['output_type'] = 'display_data';\n",
              "          await google.colab.output.renderOutput(dataTable, element);\n",
              "          const docLink = document.createElement('div');\n",
              "          docLink.innerHTML = docLinkHtml;\n",
              "          element.appendChild(docLink);\n",
              "        }\n",
              "      </script>\n",
              "    </div>\n",
              "  </div>\n",
              "  "
            ]
          },
          "metadata": {},
          "execution_count": 30
        }
      ]
    },
    {
      "cell_type": "code",
      "source": [
        "# show us shape of our dataset\n",
        "data.shape"
      ],
      "metadata": {
        "colab": {
          "base_uri": "https://localhost:8080/"
        },
        "id": "lsGXWOLmyFLZ",
        "outputId": "879f8b14-b3b5-4dbb-aa48-c33046a7cad1"
      },
      "execution_count": null,
      "outputs": [
        {
          "output_type": "execute_result",
          "data": {
            "text/plain": [
              "(5572, 5)"
            ]
          },
          "metadata": {},
          "execution_count": 14
        }
      ]
    },
    {
      "cell_type": "code",
      "source": [
        "# convert data set sms to lowercase\n",
        "data['v2'] = data['v2'].apply(lambda x: str(x).lower())"
      ],
      "metadata": {
        "id": "bwbwh7nWyOsp"
      },
      "execution_count": null,
      "outputs": []
    },
    {
      "cell_type": "code",
      "source": [
        "# we need to label the spam and the ham\n",
        "list_of_cols_to_change = ['v1']\n",
        "data[\"v1\"] = data[\"v1\"].apply(lambda x: 1 if x == \"spam\" else 0)\n",
        "data"
      ],
      "metadata": {
        "colab": {
          "base_uri": "https://localhost:8080/",
          "height": 424
        },
        "id": "v6P2_WIkyySH",
        "outputId": "ea7ad4c6-b58e-4cdf-f8dd-baf5c58f517b"
      },
      "execution_count": null,
      "outputs": [
        {
          "output_type": "execute_result",
          "data": {
            "text/plain": [
              "      v1                                                 v2 Unnamed: 2  \\\n",
              "0      0  go until jurong point, crazy.. available only ...        NaN   \n",
              "1      0                      ok lar... joking wif u oni...        NaN   \n",
              "2      1  free entry in 2 a wkly comp to win fa cup fina...        NaN   \n",
              "3      0  u dun say so early hor... u c already then say...        NaN   \n",
              "4      0  nah i don't think he goes to usf, he lives aro...        NaN   \n",
              "...   ..                                                ...        ...   \n",
              "5567   1  this is the 2nd time we have tried 2 contact u...        NaN   \n",
              "5568   0              will ì_ b going to esplanade fr home?        NaN   \n",
              "5569   0  pity, * was in mood for that. so...any other s...        NaN   \n",
              "5570   0  the guy did some bitching but i acted like i'd...        NaN   \n",
              "5571   0                         rofl. its true to its name        NaN   \n",
              "\n",
              "     Unnamed: 3 Unnamed: 4  \n",
              "0           NaN        NaN  \n",
              "1           NaN        NaN  \n",
              "2           NaN        NaN  \n",
              "3           NaN        NaN  \n",
              "4           NaN        NaN  \n",
              "...         ...        ...  \n",
              "5567        NaN        NaN  \n",
              "5568        NaN        NaN  \n",
              "5569        NaN        NaN  \n",
              "5570        NaN        NaN  \n",
              "5571        NaN        NaN  \n",
              "\n",
              "[5572 rows x 5 columns]"
            ],
            "text/html": [
              "\n",
              "  <div id=\"df-565aa45a-8bd8-4348-9082-07ced1da3297\">\n",
              "    <div class=\"colab-df-container\">\n",
              "      <div>\n",
              "<style scoped>\n",
              "    .dataframe tbody tr th:only-of-type {\n",
              "        vertical-align: middle;\n",
              "    }\n",
              "\n",
              "    .dataframe tbody tr th {\n",
              "        vertical-align: top;\n",
              "    }\n",
              "\n",
              "    .dataframe thead th {\n",
              "        text-align: right;\n",
              "    }\n",
              "</style>\n",
              "<table border=\"1\" class=\"dataframe\">\n",
              "  <thead>\n",
              "    <tr style=\"text-align: right;\">\n",
              "      <th></th>\n",
              "      <th>v1</th>\n",
              "      <th>v2</th>\n",
              "      <th>Unnamed: 2</th>\n",
              "      <th>Unnamed: 3</th>\n",
              "      <th>Unnamed: 4</th>\n",
              "    </tr>\n",
              "  </thead>\n",
              "  <tbody>\n",
              "    <tr>\n",
              "      <th>0</th>\n",
              "      <td>0</td>\n",
              "      <td>go until jurong point, crazy.. available only ...</td>\n",
              "      <td>NaN</td>\n",
              "      <td>NaN</td>\n",
              "      <td>NaN</td>\n",
              "    </tr>\n",
              "    <tr>\n",
              "      <th>1</th>\n",
              "      <td>0</td>\n",
              "      <td>ok lar... joking wif u oni...</td>\n",
              "      <td>NaN</td>\n",
              "      <td>NaN</td>\n",
              "      <td>NaN</td>\n",
              "    </tr>\n",
              "    <tr>\n",
              "      <th>2</th>\n",
              "      <td>1</td>\n",
              "      <td>free entry in 2 a wkly comp to win fa cup fina...</td>\n",
              "      <td>NaN</td>\n",
              "      <td>NaN</td>\n",
              "      <td>NaN</td>\n",
              "    </tr>\n",
              "    <tr>\n",
              "      <th>3</th>\n",
              "      <td>0</td>\n",
              "      <td>u dun say so early hor... u c already then say...</td>\n",
              "      <td>NaN</td>\n",
              "      <td>NaN</td>\n",
              "      <td>NaN</td>\n",
              "    </tr>\n",
              "    <tr>\n",
              "      <th>4</th>\n",
              "      <td>0</td>\n",
              "      <td>nah i don't think he goes to usf, he lives aro...</td>\n",
              "      <td>NaN</td>\n",
              "      <td>NaN</td>\n",
              "      <td>NaN</td>\n",
              "    </tr>\n",
              "    <tr>\n",
              "      <th>...</th>\n",
              "      <td>...</td>\n",
              "      <td>...</td>\n",
              "      <td>...</td>\n",
              "      <td>...</td>\n",
              "      <td>...</td>\n",
              "    </tr>\n",
              "    <tr>\n",
              "      <th>5567</th>\n",
              "      <td>1</td>\n",
              "      <td>this is the 2nd time we have tried 2 contact u...</td>\n",
              "      <td>NaN</td>\n",
              "      <td>NaN</td>\n",
              "      <td>NaN</td>\n",
              "    </tr>\n",
              "    <tr>\n",
              "      <th>5568</th>\n",
              "      <td>0</td>\n",
              "      <td>will ì_ b going to esplanade fr home?</td>\n",
              "      <td>NaN</td>\n",
              "      <td>NaN</td>\n",
              "      <td>NaN</td>\n",
              "    </tr>\n",
              "    <tr>\n",
              "      <th>5569</th>\n",
              "      <td>0</td>\n",
              "      <td>pity, * was in mood for that. so...any other s...</td>\n",
              "      <td>NaN</td>\n",
              "      <td>NaN</td>\n",
              "      <td>NaN</td>\n",
              "    </tr>\n",
              "    <tr>\n",
              "      <th>5570</th>\n",
              "      <td>0</td>\n",
              "      <td>the guy did some bitching but i acted like i'd...</td>\n",
              "      <td>NaN</td>\n",
              "      <td>NaN</td>\n",
              "      <td>NaN</td>\n",
              "    </tr>\n",
              "    <tr>\n",
              "      <th>5571</th>\n",
              "      <td>0</td>\n",
              "      <td>rofl. its true to its name</td>\n",
              "      <td>NaN</td>\n",
              "      <td>NaN</td>\n",
              "      <td>NaN</td>\n",
              "    </tr>\n",
              "  </tbody>\n",
              "</table>\n",
              "<p>5572 rows × 5 columns</p>\n",
              "</div>\n",
              "      <button class=\"colab-df-convert\" onclick=\"convertToInteractive('df-565aa45a-8bd8-4348-9082-07ced1da3297')\"\n",
              "              title=\"Convert this dataframe to an interactive table.\"\n",
              "              style=\"display:none;\">\n",
              "        \n",
              "  <svg xmlns=\"http://www.w3.org/2000/svg\" height=\"24px\"viewBox=\"0 0 24 24\"\n",
              "       width=\"24px\">\n",
              "    <path d=\"M0 0h24v24H0V0z\" fill=\"none\"/>\n",
              "    <path d=\"M18.56 5.44l.94 2.06.94-2.06 2.06-.94-2.06-.94-.94-2.06-.94 2.06-2.06.94zm-11 1L8.5 8.5l.94-2.06 2.06-.94-2.06-.94L8.5 2.5l-.94 2.06-2.06.94zm10 10l.94 2.06.94-2.06 2.06-.94-2.06-.94-.94-2.06-.94 2.06-2.06.94z\"/><path d=\"M17.41 7.96l-1.37-1.37c-.4-.4-.92-.59-1.43-.59-.52 0-1.04.2-1.43.59L10.3 9.45l-7.72 7.72c-.78.78-.78 2.05 0 2.83L4 21.41c.39.39.9.59 1.41.59.51 0 1.02-.2 1.41-.59l7.78-7.78 2.81-2.81c.8-.78.8-2.07 0-2.86zM5.41 20L4 18.59l7.72-7.72 1.47 1.35L5.41 20z\"/>\n",
              "  </svg>\n",
              "      </button>\n",
              "      \n",
              "  <style>\n",
              "    .colab-df-container {\n",
              "      display:flex;\n",
              "      flex-wrap:wrap;\n",
              "      gap: 12px;\n",
              "    }\n",
              "\n",
              "    .colab-df-convert {\n",
              "      background-color: #E8F0FE;\n",
              "      border: none;\n",
              "      border-radius: 50%;\n",
              "      cursor: pointer;\n",
              "      display: none;\n",
              "      fill: #1967D2;\n",
              "      height: 32px;\n",
              "      padding: 0 0 0 0;\n",
              "      width: 32px;\n",
              "    }\n",
              "\n",
              "    .colab-df-convert:hover {\n",
              "      background-color: #E2EBFA;\n",
              "      box-shadow: 0px 1px 2px rgba(60, 64, 67, 0.3), 0px 1px 3px 1px rgba(60, 64, 67, 0.15);\n",
              "      fill: #174EA6;\n",
              "    }\n",
              "\n",
              "    [theme=dark] .colab-df-convert {\n",
              "      background-color: #3B4455;\n",
              "      fill: #D2E3FC;\n",
              "    }\n",
              "\n",
              "    [theme=dark] .colab-df-convert:hover {\n",
              "      background-color: #434B5C;\n",
              "      box-shadow: 0px 1px 3px 1px rgba(0, 0, 0, 0.15);\n",
              "      filter: drop-shadow(0px 1px 2px rgba(0, 0, 0, 0.3));\n",
              "      fill: #FFFFFF;\n",
              "    }\n",
              "  </style>\n",
              "\n",
              "      <script>\n",
              "        const buttonEl =\n",
              "          document.querySelector('#df-565aa45a-8bd8-4348-9082-07ced1da3297 button.colab-df-convert');\n",
              "        buttonEl.style.display =\n",
              "          google.colab.kernel.accessAllowed ? 'block' : 'none';\n",
              "\n",
              "        async function convertToInteractive(key) {\n",
              "          const element = document.querySelector('#df-565aa45a-8bd8-4348-9082-07ced1da3297');\n",
              "          const dataTable =\n",
              "            await google.colab.kernel.invokeFunction('convertToInteractive',\n",
              "                                                     [key], {});\n",
              "          if (!dataTable) return;\n",
              "\n",
              "          const docLinkHtml = 'Like what you see? Visit the ' +\n",
              "            '<a target=\"_blank\" href=https://colab.research.google.com/notebooks/data_table.ipynb>data table notebook</a>'\n",
              "            + ' to learn more about interactive tables.';\n",
              "          element.innerHTML = '';\n",
              "          dataTable['output_type'] = 'display_data';\n",
              "          await google.colab.output.renderOutput(dataTable, element);\n",
              "          const docLink = document.createElement('div');\n",
              "          docLink.innerHTML = docLinkHtml;\n",
              "          element.appendChild(docLink);\n",
              "        }\n",
              "      </script>\n",
              "    </div>\n",
              "  </div>\n",
              "  "
            ]
          },
          "metadata": {},
          "execution_count": 31
        }
      ]
    },
    {
      "cell_type": "code",
      "source": [
        "# we only need v1 and v2, drop the rest\n",
        "data = data[['v1', 'v2']]\n",
        "data.sample(5)"
      ],
      "metadata": {
        "colab": {
          "base_uri": "https://localhost:8080/",
          "height": 206
        },
        "id": "qNX0yCto1r--",
        "outputId": "dab16899-f8b9-4d8b-d288-2d3408f0d133"
      },
      "execution_count": null,
      "outputs": [
        {
          "output_type": "execute_result",
          "data": {
            "text/plain": [
              "      v1                                                 v2\n",
              "4352   0  fun fact: although you would think armand woul...\n",
              "2113   0  yeah, don't go to bed, i'll be back before mid...\n",
              "1485   0  (i should add that i don't really care and if ...\n",
              "2234   0  what's your room number again? wanna make sure...\n",
              "3787   1  want to funk up ur fone with a weekly new tone..."
            ],
            "text/html": [
              "\n",
              "  <div id=\"df-b958621c-2e41-4098-8d7c-b5a9e41b26e7\">\n",
              "    <div class=\"colab-df-container\">\n",
              "      <div>\n",
              "<style scoped>\n",
              "    .dataframe tbody tr th:only-of-type {\n",
              "        vertical-align: middle;\n",
              "    }\n",
              "\n",
              "    .dataframe tbody tr th {\n",
              "        vertical-align: top;\n",
              "    }\n",
              "\n",
              "    .dataframe thead th {\n",
              "        text-align: right;\n",
              "    }\n",
              "</style>\n",
              "<table border=\"1\" class=\"dataframe\">\n",
              "  <thead>\n",
              "    <tr style=\"text-align: right;\">\n",
              "      <th></th>\n",
              "      <th>v1</th>\n",
              "      <th>v2</th>\n",
              "    </tr>\n",
              "  </thead>\n",
              "  <tbody>\n",
              "    <tr>\n",
              "      <th>4352</th>\n",
              "      <td>0</td>\n",
              "      <td>fun fact: although you would think armand woul...</td>\n",
              "    </tr>\n",
              "    <tr>\n",
              "      <th>2113</th>\n",
              "      <td>0</td>\n",
              "      <td>yeah, don't go to bed, i'll be back before mid...</td>\n",
              "    </tr>\n",
              "    <tr>\n",
              "      <th>1485</th>\n",
              "      <td>0</td>\n",
              "      <td>(i should add that i don't really care and if ...</td>\n",
              "    </tr>\n",
              "    <tr>\n",
              "      <th>2234</th>\n",
              "      <td>0</td>\n",
              "      <td>what's your room number again? wanna make sure...</td>\n",
              "    </tr>\n",
              "    <tr>\n",
              "      <th>3787</th>\n",
              "      <td>1</td>\n",
              "      <td>want to funk up ur fone with a weekly new tone...</td>\n",
              "    </tr>\n",
              "  </tbody>\n",
              "</table>\n",
              "</div>\n",
              "      <button class=\"colab-df-convert\" onclick=\"convertToInteractive('df-b958621c-2e41-4098-8d7c-b5a9e41b26e7')\"\n",
              "              title=\"Convert this dataframe to an interactive table.\"\n",
              "              style=\"display:none;\">\n",
              "        \n",
              "  <svg xmlns=\"http://www.w3.org/2000/svg\" height=\"24px\"viewBox=\"0 0 24 24\"\n",
              "       width=\"24px\">\n",
              "    <path d=\"M0 0h24v24H0V0z\" fill=\"none\"/>\n",
              "    <path d=\"M18.56 5.44l.94 2.06.94-2.06 2.06-.94-2.06-.94-.94-2.06-.94 2.06-2.06.94zm-11 1L8.5 8.5l.94-2.06 2.06-.94-2.06-.94L8.5 2.5l-.94 2.06-2.06.94zm10 10l.94 2.06.94-2.06 2.06-.94-2.06-.94-.94-2.06-.94 2.06-2.06.94z\"/><path d=\"M17.41 7.96l-1.37-1.37c-.4-.4-.92-.59-1.43-.59-.52 0-1.04.2-1.43.59L10.3 9.45l-7.72 7.72c-.78.78-.78 2.05 0 2.83L4 21.41c.39.39.9.59 1.41.59.51 0 1.02-.2 1.41-.59l7.78-7.78 2.81-2.81c.8-.78.8-2.07 0-2.86zM5.41 20L4 18.59l7.72-7.72 1.47 1.35L5.41 20z\"/>\n",
              "  </svg>\n",
              "      </button>\n",
              "      \n",
              "  <style>\n",
              "    .colab-df-container {\n",
              "      display:flex;\n",
              "      flex-wrap:wrap;\n",
              "      gap: 12px;\n",
              "    }\n",
              "\n",
              "    .colab-df-convert {\n",
              "      background-color: #E8F0FE;\n",
              "      border: none;\n",
              "      border-radius: 50%;\n",
              "      cursor: pointer;\n",
              "      display: none;\n",
              "      fill: #1967D2;\n",
              "      height: 32px;\n",
              "      padding: 0 0 0 0;\n",
              "      width: 32px;\n",
              "    }\n",
              "\n",
              "    .colab-df-convert:hover {\n",
              "      background-color: #E2EBFA;\n",
              "      box-shadow: 0px 1px 2px rgba(60, 64, 67, 0.3), 0px 1px 3px 1px rgba(60, 64, 67, 0.15);\n",
              "      fill: #174EA6;\n",
              "    }\n",
              "\n",
              "    [theme=dark] .colab-df-convert {\n",
              "      background-color: #3B4455;\n",
              "      fill: #D2E3FC;\n",
              "    }\n",
              "\n",
              "    [theme=dark] .colab-df-convert:hover {\n",
              "      background-color: #434B5C;\n",
              "      box-shadow: 0px 1px 3px 1px rgba(0, 0, 0, 0.15);\n",
              "      filter: drop-shadow(0px 1px 2px rgba(0, 0, 0, 0.3));\n",
              "      fill: #FFFFFF;\n",
              "    }\n",
              "  </style>\n",
              "\n",
              "      <script>\n",
              "        const buttonEl =\n",
              "          document.querySelector('#df-b958621c-2e41-4098-8d7c-b5a9e41b26e7 button.colab-df-convert');\n",
              "        buttonEl.style.display =\n",
              "          google.colab.kernel.accessAllowed ? 'block' : 'none';\n",
              "\n",
              "        async function convertToInteractive(key) {\n",
              "          const element = document.querySelector('#df-b958621c-2e41-4098-8d7c-b5a9e41b26e7');\n",
              "          const dataTable =\n",
              "            await google.colab.kernel.invokeFunction('convertToInteractive',\n",
              "                                                     [key], {});\n",
              "          if (!dataTable) return;\n",
              "\n",
              "          const docLinkHtml = 'Like what you see? Visit the ' +\n",
              "            '<a target=\"_blank\" href=https://colab.research.google.com/notebooks/data_table.ipynb>data table notebook</a>'\n",
              "            + ' to learn more about interactive tables.';\n",
              "          element.innerHTML = '';\n",
              "          dataTable['output_type'] = 'display_data';\n",
              "          await google.colab.output.renderOutput(dataTable, element);\n",
              "          const docLink = document.createElement('div');\n",
              "          docLink.innerHTML = docLinkHtml;\n",
              "          element.appendChild(docLink);\n",
              "        }\n",
              "      </script>\n",
              "    </div>\n",
              "  </div>\n",
              "  "
            ]
          },
          "metadata": {},
          "execution_count": 32
        }
      ]
    },
    {
      "cell_type": "markdown",
      "source": [
        "**Removing special characters** <br>\n",
        "Used library https://github.com/laxmimerit/preprocess_kgptalkie.git"
      ],
      "metadata": {
        "id": "23EuR6h9pXB9"
      }
    },
    {
      "cell_type": "code",
      "source": [
        "!pip install spacy==2.2.3\n",
        "!python -m spacy download en_core_web_sm\n",
        "!pip install beautifulsoup4==4.9.1\n",
        "!pip install textblob==-0.15.3\n",
        "!pip install git+https://github.com/laxmimerit/preprocess_kgptalkie.git --upgrade --force-reinstall"
      ],
      "metadata": {
        "id": "jlwLfzdv1X0z"
      },
      "execution_count": null,
      "outputs": []
    },
    {
      "cell_type": "code",
      "source": [
        "# remove special characters\n",
        "import preprocess_kgptalkie as ps\n",
        "\n",
        "data['v2'] = data['v2'].apply(lambda x: ps.remove_special_chars(x))"
      ],
      "metadata": {
        "id": "PgIYgUdj12QC",
        "colab": {
          "base_uri": "https://localhost:8080/"
        },
        "outputId": "78a26cb4-698e-4974-cbbe-25c940a2171b"
      },
      "execution_count": null,
      "outputs": [
        {
          "output_type": "stream",
          "name": "stderr",
          "text": [
            "/usr/local/lib/python3.7/dist-packages/ipykernel_launcher.py:4: SettingWithCopyWarning: \n",
            "A value is trying to be set on a copy of a slice from a DataFrame.\n",
            "Try using .loc[row_indexer,col_indexer] = value instead\n",
            "\n",
            "See the caveats in the documentation: https://pandas.pydata.org/pandas-docs/stable/user_guide/indexing.html#returning-a-view-versus-a-copy\n",
            "  after removing the cwd from sys.path.\n"
          ]
        }
      ]
    },
    {
      "cell_type": "code",
      "source": [
        "data.sample(5)"
      ],
      "metadata": {
        "colab": {
          "base_uri": "https://localhost:8080/",
          "height": 206
        },
        "id": "s8WJntWT2y_v",
        "outputId": "919671d7-87a9-47fc-865e-67f964c6c6c7"
      },
      "execution_count": null,
      "outputs": [
        {
          "output_type": "execute_result",
          "data": {
            "text/plain": [
              "      v1                                                 v2\n",
              "797    0  petey boy whereare you me and all your friends...\n",
              "1703   0                            just taste fish curry p\n",
              "4803   0  er hello things didnût quite go to plan ûò is ...\n",
              "3329   0                          send me yettys number pls\n",
              "1863   0                  ill let you know when it kicks in"
            ],
            "text/html": [
              "\n",
              "  <div id=\"df-e1f03cb0-d45a-4d24-9630-e0798b8ae087\">\n",
              "    <div class=\"colab-df-container\">\n",
              "      <div>\n",
              "<style scoped>\n",
              "    .dataframe tbody tr th:only-of-type {\n",
              "        vertical-align: middle;\n",
              "    }\n",
              "\n",
              "    .dataframe tbody tr th {\n",
              "        vertical-align: top;\n",
              "    }\n",
              "\n",
              "    .dataframe thead th {\n",
              "        text-align: right;\n",
              "    }\n",
              "</style>\n",
              "<table border=\"1\" class=\"dataframe\">\n",
              "  <thead>\n",
              "    <tr style=\"text-align: right;\">\n",
              "      <th></th>\n",
              "      <th>v1</th>\n",
              "      <th>v2</th>\n",
              "    </tr>\n",
              "  </thead>\n",
              "  <tbody>\n",
              "    <tr>\n",
              "      <th>797</th>\n",
              "      <td>0</td>\n",
              "      <td>petey boy whereare you me and all your friends...</td>\n",
              "    </tr>\n",
              "    <tr>\n",
              "      <th>1703</th>\n",
              "      <td>0</td>\n",
              "      <td>just taste fish curry p</td>\n",
              "    </tr>\n",
              "    <tr>\n",
              "      <th>4803</th>\n",
              "      <td>0</td>\n",
              "      <td>er hello things didnût quite go to plan ûò is ...</td>\n",
              "    </tr>\n",
              "    <tr>\n",
              "      <th>3329</th>\n",
              "      <td>0</td>\n",
              "      <td>send me yettys number pls</td>\n",
              "    </tr>\n",
              "    <tr>\n",
              "      <th>1863</th>\n",
              "      <td>0</td>\n",
              "      <td>ill let you know when it kicks in</td>\n",
              "    </tr>\n",
              "  </tbody>\n",
              "</table>\n",
              "</div>\n",
              "      <button class=\"colab-df-convert\" onclick=\"convertToInteractive('df-e1f03cb0-d45a-4d24-9630-e0798b8ae087')\"\n",
              "              title=\"Convert this dataframe to an interactive table.\"\n",
              "              style=\"display:none;\">\n",
              "        \n",
              "  <svg xmlns=\"http://www.w3.org/2000/svg\" height=\"24px\"viewBox=\"0 0 24 24\"\n",
              "       width=\"24px\">\n",
              "    <path d=\"M0 0h24v24H0V0z\" fill=\"none\"/>\n",
              "    <path d=\"M18.56 5.44l.94 2.06.94-2.06 2.06-.94-2.06-.94-.94-2.06-.94 2.06-2.06.94zm-11 1L8.5 8.5l.94-2.06 2.06-.94-2.06-.94L8.5 2.5l-.94 2.06-2.06.94zm10 10l.94 2.06.94-2.06 2.06-.94-2.06-.94-.94-2.06-.94 2.06-2.06.94z\"/><path d=\"M17.41 7.96l-1.37-1.37c-.4-.4-.92-.59-1.43-.59-.52 0-1.04.2-1.43.59L10.3 9.45l-7.72 7.72c-.78.78-.78 2.05 0 2.83L4 21.41c.39.39.9.59 1.41.59.51 0 1.02-.2 1.41-.59l7.78-7.78 2.81-2.81c.8-.78.8-2.07 0-2.86zM5.41 20L4 18.59l7.72-7.72 1.47 1.35L5.41 20z\"/>\n",
              "  </svg>\n",
              "      </button>\n",
              "      \n",
              "  <style>\n",
              "    .colab-df-container {\n",
              "      display:flex;\n",
              "      flex-wrap:wrap;\n",
              "      gap: 12px;\n",
              "    }\n",
              "\n",
              "    .colab-df-convert {\n",
              "      background-color: #E8F0FE;\n",
              "      border: none;\n",
              "      border-radius: 50%;\n",
              "      cursor: pointer;\n",
              "      display: none;\n",
              "      fill: #1967D2;\n",
              "      height: 32px;\n",
              "      padding: 0 0 0 0;\n",
              "      width: 32px;\n",
              "    }\n",
              "\n",
              "    .colab-df-convert:hover {\n",
              "      background-color: #E2EBFA;\n",
              "      box-shadow: 0px 1px 2px rgba(60, 64, 67, 0.3), 0px 1px 3px 1px rgba(60, 64, 67, 0.15);\n",
              "      fill: #174EA6;\n",
              "    }\n",
              "\n",
              "    [theme=dark] .colab-df-convert {\n",
              "      background-color: #3B4455;\n",
              "      fill: #D2E3FC;\n",
              "    }\n",
              "\n",
              "    [theme=dark] .colab-df-convert:hover {\n",
              "      background-color: #434B5C;\n",
              "      box-shadow: 0px 1px 3px 1px rgba(0, 0, 0, 0.15);\n",
              "      filter: drop-shadow(0px 1px 2px rgba(0, 0, 0, 0.3));\n",
              "      fill: #FFFFFF;\n",
              "    }\n",
              "  </style>\n",
              "\n",
              "      <script>\n",
              "        const buttonEl =\n",
              "          document.querySelector('#df-e1f03cb0-d45a-4d24-9630-e0798b8ae087 button.colab-df-convert');\n",
              "        buttonEl.style.display =\n",
              "          google.colab.kernel.accessAllowed ? 'block' : 'none';\n",
              "\n",
              "        async function convertToInteractive(key) {\n",
              "          const element = document.querySelector('#df-e1f03cb0-d45a-4d24-9630-e0798b8ae087');\n",
              "          const dataTable =\n",
              "            await google.colab.kernel.invokeFunction('convertToInteractive',\n",
              "                                                     [key], {});\n",
              "          if (!dataTable) return;\n",
              "\n",
              "          const docLinkHtml = 'Like what you see? Visit the ' +\n",
              "            '<a target=\"_blank\" href=https://colab.research.google.com/notebooks/data_table.ipynb>data table notebook</a>'\n",
              "            + ' to learn more about interactive tables.';\n",
              "          element.innerHTML = '';\n",
              "          dataTable['output_type'] = 'display_data';\n",
              "          await google.colab.output.renderOutput(dataTable, element);\n",
              "          const docLink = document.createElement('div');\n",
              "          docLink.innerHTML = docLinkHtml;\n",
              "          element.appendChild(docLink);\n",
              "        }\n",
              "      </script>\n",
              "    </div>\n",
              "  </div>\n",
              "  "
            ]
          },
          "metadata": {},
          "execution_count": 20
        }
      ]
    },
    {
      "cell_type": "markdown",
      "source": [
        "# **Vectorisation**"
      ],
      "metadata": {
        "id": "1M4WtwpG3EuX"
      }
    },
    {
      "cell_type": "code",
      "source": [
        "# we use vectorisation technique - word2vec to convert a word into a sequence of vectors\n",
        "import gensim"
      ],
      "metadata": {
        "id": "TkcZc6ym3EpF"
      },
      "execution_count": null,
      "outputs": []
    },
    {
      "cell_type": "code",
      "execution_count": null,
      "metadata": {
        "id": "mAoTSYN56eL4"
      },
      "outputs": [],
      "source": [
        "# get array of class\n",
        "y = data['v1'].values\n",
        "# data['v2'].tolist turns sms data into a sequence of list, which we need to convert into a list of words\n",
        "x = [i.split() for i in data['v2'].tolist()]"
      ]
    },
    {
      "cell_type": "code",
      "execution_count": null,
      "metadata": {
        "colab": {
          "base_uri": "https://localhost:8080/"
        },
        "id": "sVeI1a-Y9Nim",
        "outputId": "f90de82d-d24a-4555-c035-a9deee76881b"
      },
      "outputs": [
        {
          "output_type": "stream",
          "name": "stdout",
          "text": [
            "['go', 'until', 'jurong', 'point,', 'crazy..', 'available', 'only', 'in', 'bugis', 'n', 'great', 'world', 'la', 'e', 'buffet...', 'cine', 'there', 'got', 'amore', 'wat...']\n"
          ]
        }
      ],
      "source": [
        "print(x[0])"
      ]
    },
    {
      "cell_type": "code",
      "source": [
        "!# each word is converted into a seq of 100 vectors\n",
        "dim = 100\n",
        "# creat a gensim model\n",
        "# sentences are the list of the list, x, the size is dim, window shows us how many words are connected together, min_count means even if there is only 1 word it generates a vecor for that\n",
        "w2v = gensim.models.Word2Vec(sentences=x, size=dim, window=10, min_count=1)"
      ],
      "metadata": {
        "id": "IgymEXlO34KV"
      },
      "execution_count": null,
      "outputs": []
    },
    {
      "cell_type": "code",
      "source": [
        "# how many words are in w2v vocabulary after we vectorised x\n",
        "len(w2v.wv.vocab)"
      ],
      "metadata": {
        "colab": {
          "base_uri": "https://localhost:8080/"
        },
        "id": "y3sZgoFn4AEU",
        "outputId": "b6ee30dc-a9a7-431f-ec8d-66f4b02e5330"
      },
      "execution_count": null,
      "outputs": [
        {
          "output_type": "execute_result",
          "data": {
            "text/plain": [
              "13496"
            ]
          },
          "metadata": {},
          "execution_count": 37
        }
      ]
    },
    {
      "cell_type": "code",
      "source": [
        "# shows the vectors assigned to word 'singapore'\n",
        "w2v.wv['singapore']"
      ],
      "metadata": {
        "colab": {
          "base_uri": "https://localhost:8080/"
        },
        "id": "NFEJbqOj4Cym",
        "outputId": "25df5879-1c47-4758-f377-cbaa7e2dca3a"
      },
      "execution_count": null,
      "outputs": [
        {
          "output_type": "execute_result",
          "data": {
            "text/plain": [
              "array([-4.6818592e-03, -1.1824628e-03, -8.5181807e-04, -4.4423048e-03,\n",
              "        2.8590261e-04,  3.1587197e-03, -3.1650406e-03,  2.9744860e-03,\n",
              "       -3.9043692e-03,  3.7610838e-03,  7.5597852e-04, -1.3472375e-03,\n",
              "        3.0431820e-03, -3.0776791e-03, -2.6216705e-03, -8.7077642e-04,\n",
              "       -7.0647686e-04,  6.0484861e-04,  7.1200433e-05, -2.2387139e-03,\n",
              "       -4.5169163e-03,  1.3409272e-03,  9.7431103e-04,  2.1681050e-04,\n",
              "       -7.7846448e-04,  5.3475839e-03,  4.1677798e-03,  3.5219947e-03,\n",
              "        4.2564231e-03, -4.4172131e-03, -9.5041723e-05, -4.4619609e-03,\n",
              "       -8.0018700e-04, -7.1984844e-04, -4.2896708e-03, -4.8489608e-03,\n",
              "        1.2391433e-03, -5.0497260e-03,  9.5083460e-04,  3.9678853e-04,\n",
              "        7.8644301e-04, -2.2474942e-03,  1.4418804e-03,  3.5735173e-03,\n",
              "        4.2788964e-03, -2.2433510e-03,  4.1811261e-03, -2.2940394e-03,\n",
              "        4.4732932e-03, -3.6221098e-03, -1.5985785e-04, -4.6401764e-03,\n",
              "       -2.8041196e-03,  3.8992858e-03,  1.4550691e-03, -5.4715578e-03,\n",
              "       -1.6203865e-03,  3.7247022e-03, -5.0528371e-03, -2.4202548e-03,\n",
              "       -4.2025391e-03, -3.7923284e-04, -3.2322246e-03,  3.4967470e-03,\n",
              "        4.0232870e-03,  4.0717330e-03,  2.8025107e-03,  1.9030762e-03,\n",
              "       -1.5247804e-04,  4.5334818e-03, -5.0242478e-03, -3.0578882e-03,\n",
              "       -3.2724196e-03, -2.7188964e-03, -1.5293036e-03,  3.2003829e-03,\n",
              "        4.4031660e-03,  2.9213964e-03,  3.1393336e-04,  2.3203159e-03,\n",
              "       -1.9196549e-03,  5.8604742e-04,  3.6077662e-03, -3.7895120e-03,\n",
              "       -4.3341643e-03, -6.9483469e-04,  2.7294701e-03,  9.9358836e-04,\n",
              "        3.2690379e-03, -5.6777513e-03,  1.6927000e-03, -3.0526542e-03,\n",
              "        1.8576416e-04,  1.3421770e-03,  4.6137418e-03,  4.1963137e-03,\n",
              "        1.6739056e-03,  1.6352218e-03,  9.2575728e-04, -1.6261978e-03],\n",
              "      dtype=float32)"
            ]
          },
          "metadata": {},
          "execution_count": 38
        }
      ]
    },
    {
      "cell_type": "code",
      "source": [
        "# returns words most similar to 'singapore' based on vectorisation\n",
        "w2v.wv.most_similar('singapore')"
      ],
      "metadata": {
        "colab": {
          "base_uri": "https://localhost:8080/"
        },
        "id": "6p-atOPe4D9I",
        "outputId": "997c02cb-8283-4b63-c3db-15e4e9469288"
      },
      "execution_count": null,
      "outputs": [
        {
          "output_type": "execute_result",
          "data": {
            "text/plain": [
              "[('tootsie', 0.41549763083457947),\n",
              " ('patent.', 0.4031710624694824),\n",
              " ('god!', 0.3660658001899719),\n",
              " ('uk!', 0.36239826679229736),\n",
              " ('cancel,', 0.35545796155929565),\n",
              " ('vco', 0.3551144003868103),\n",
              " ('appropriate', 0.33639466762542725),\n",
              " ('fne', 0.33440208435058594),\n",
              " ('website..now', 0.33209216594696045),\n",
              " ('spelled', 0.3317393660545349)]"
            ]
          },
          "metadata": {},
          "execution_count": 39
        }
      ]
    },
    {
      "cell_type": "code",
      "execution_count": null,
      "metadata": {
        "colab": {
          "base_uri": "https://localhost:8080/"
        },
        "id": "XaKqmvcz9wSE",
        "outputId": "ce5749f5-7e1d-4e84-bb8c-d522693665d6"
      },
      "outputs": [
        {
          "output_type": "execute_result",
          "data": {
            "text/plain": [
              "[('more', 0.9997432231903076),\n",
              " ('keep', 0.999732255935669),\n",
              " ('last', 0.9997318387031555),\n",
              " ('had', 0.9997280836105347),\n",
              " ('thing', 0.9997260570526123),\n",
              " ('as', 0.9997240304946899),\n",
              " ('it.', 0.9997235536575317),\n",
              " ('better', 0.9997206926345825),\n",
              " ('one', 0.9997203946113586),\n",
              " ('just', 0.9997199773788452)]"
            ]
          },
          "metadata": {},
          "execution_count": 40
        }
      ],
      "source": [
        "# returns words most similar to 'hello' based on vectorisation\n",
        "w2v.wv.most_similar('hello')"
      ]
    },
    {
      "cell_type": "code",
      "execution_count": null,
      "metadata": {
        "id": "g2izRtzIB3Z4"
      },
      "outputs": [],
      "source": [
        "# now our text is converted into vectors\n",
        "# we can feed these vectors as initial weight in machine learning model, and then use the machine learning to recreate this weights again\n",
        "\n",
        "# create tokenizer \n",
        "tokenizer = Tokenizer()\n",
        "tokenizer.fit_on_texts(x)"
      ]
    },
    {
      "cell_type": "code",
      "source": [
        "import pickle\n",
        "\n",
        "!mkdir -p data\n",
        "pickle.dump(tokenizer, open(\"./data/tokenizer.pickle\", \"wb\"), pickle.HIGHEST_PROTOCOL)"
      ],
      "metadata": {
        "id": "9nkNiVDBJJQO"
      },
      "execution_count": null,
      "outputs": []
    },
    {
      "cell_type": "code",
      "source": [
        "# after tokenisation, text data is converted into a set of sequence\n",
        "x = tokenizer.texts_to_sequences(x)"
      ],
      "metadata": {
        "id": "fi25BHmr4O65"
      },
      "execution_count": null,
      "outputs": []
    },
    {
      "cell_type": "code",
      "execution_count": null,
      "metadata": {
        "id": "F9h5xgpq-TVH",
        "colab": {
          "base_uri": "https://localhost:8080/"
        },
        "outputId": "aa1ba238-14cf-4048-a593-185c4162ba13"
      },
      "outputs": [
        {
          "output_type": "execute_result",
          "data": {
            "text/plain": [
              "{'to': 1,\n",
              " 'i': 2,\n",
              " 'you': 3,\n",
              " 'a': 4,\n",
              " 'the': 5,\n",
              " 'u': 6,\n",
              " 'and': 7,\n",
              " 'is': 8,\n",
              " 'in': 9,\n",
              " 'my': 10,\n",
              " 'for': 11,\n",
              " 'your': 12,\n",
              " 'of': 13,\n",
              " 'me': 14,\n",
              " 'have': 15,\n",
              " 'call': 16,\n",
              " 'on': 17,\n",
              " 'are': 18,\n",
              " 'that': 19,\n",
              " 'it': 20,\n",
              " '2': 21,\n",
              " 'so': 22,\n",
              " 'but': 23,\n",
              " 'or': 24,\n",
              " 'not': 25,\n",
              " 'at': 26,\n",
              " 'can': 27,\n",
              " 'ur': 28,\n",
              " 'if': 29,\n",
              " 'with': 30,\n",
              " \"i'm\": 31,\n",
              " 'be': 32,\n",
              " 'get': 33,\n",
              " 'will': 34,\n",
              " 'do': 35,\n",
              " 'just': 36,\n",
              " 'we': 37,\n",
              " 'this': 38,\n",
              " 'when': 39,\n",
              " 'from': 40,\n",
              " '&lt;#&gt;': 41,\n",
              " 'go': 42,\n",
              " 'up': 43,\n",
              " 'all': 44,\n",
              " 'no': 45,\n",
              " 'how': 46,\n",
              " 'what': 47,\n",
              " '4': 48,\n",
              " 'now': 49,\n",
              " '.': 50,\n",
              " 'got': 51,\n",
              " 'like': 52,\n",
              " 'know': 53,\n",
              " 'was': 54,\n",
              " 'free': 55,\n",
              " 'out': 56,\n",
              " 'come': 57,\n",
              " 'am': 58,\n",
              " 'its': 59,\n",
              " 'then': 60,\n",
              " 'good': 61,\n",
              " '?': 62,\n",
              " 'send': 63,\n",
              " 'only': 64,\n",
              " 'want': 65,\n",
              " 'he': 66,\n",
              " 'as': 67,\n",
              " 'text': 68,\n",
              " 'time': 69,\n",
              " \"i'll\": 70,\n",
              " 'by': 71,\n",
              " '...': 72,\n",
              " 'going': 73,\n",
              " 'ok': 74,\n",
              " 'love': 75,\n",
              " 'about': 76,\n",
              " 'need': 77,\n",
              " 'r': 78,\n",
              " 'still': 79,\n",
              " 'txt': 80,\n",
              " 'one': 81,\n",
              " 'see': 82,\n",
              " 'n': 83,\n",
              " 'our': 84,\n",
              " 'new': 85,\n",
              " 'there': 86,\n",
              " 'dont': 87,\n",
              " 'tell': 88,\n",
              " \"don't\": 89,\n",
              " 'she': 90,\n",
              " 'any': 91,\n",
              " 'been': 92,\n",
              " 'think': 93,\n",
              " 'reply': 94,\n",
              " 'they': 95,\n",
              " 'mobile': 96,\n",
              " 'take': 97,\n",
              " 'back': 98,\n",
              " 'some': 99,\n",
              " 'stop': 100,\n",
              " 'please': 101,\n",
              " 'has': 102,\n",
              " 'did': 103,\n",
              " 'home': 104,\n",
              " 'an': 105,\n",
              " 'day': 106,\n",
              " '&': 107,\n",
              " 'claim': 108,\n",
              " 'ì_': 109,\n",
              " 'who': 110,\n",
              " 'her': 111,\n",
              " 'hi': 112,\n",
              " 'hope': 113,\n",
              " 'make': 114,\n",
              " 'had': 115,\n",
              " 'pls': 116,\n",
              " 'more': 117,\n",
              " 'me.': 118,\n",
              " 'where': 119,\n",
              " 'give': 120,\n",
              " 'phone': 121,\n",
              " \"it's\": 122,\n",
              " 'later': 123,\n",
              " 'should': 124,\n",
              " 'now.': 125,\n",
              " 'much': 126,\n",
              " 'him': 127,\n",
              " 'd': 128,\n",
              " 'happy': 129,\n",
              " '-': 130,\n",
              " 'great': 131,\n",
              " 'sorry': 132,\n",
              " 'after': 133,\n",
              " 'ask': 134,\n",
              " 'you.': 135,\n",
              " 'hey': 136,\n",
              " 'da': 137,\n",
              " '&amp;': 138,\n",
              " 'e': 139,\n",
              " 'say': 140,\n",
              " 'really': 141,\n",
              " 'well': 142,\n",
              " 'dear': 143,\n",
              " 'here': 144,\n",
              " 'im': 145,\n",
              " 'last': 146,\n",
              " 'way': 147,\n",
              " 'very': 148,\n",
              " 'meet': 149,\n",
              " 'why': 150,\n",
              " 'now!': 151,\n",
              " 'would': 152,\n",
              " 'cos': 153,\n",
              " 'c': 154,\n",
              " 'too': 155,\n",
              " 'today': 156,\n",
              " 'night': 157,\n",
              " 'oh': 158,\n",
              " 'miss': 159,\n",
              " 'every': 160,\n",
              " 'find': 161,\n",
              " 'week': 162,\n",
              " 'let': 163,\n",
              " 'pick': 164,\n",
              " 'them': 165,\n",
              " 'number': 166,\n",
              " 'win': 167,\n",
              " 'work': 168,\n",
              " 'contact': 169,\n",
              " 'lor.': 170,\n",
              " 'doing': 171,\n",
              " 'nokia': 172,\n",
              " 'said': 173,\n",
              " 'right': 174,\n",
              " \"i've\": 175,\n",
              " 'cash': 176,\n",
              " 'sent': 177,\n",
              " 'keep': 178,\n",
              " 'won': 179,\n",
              " '1': 180,\n",
              " 'cant': 181,\n",
              " 'b': 182,\n",
              " 'yeah': 183,\n",
              " 'wat': 184,\n",
              " 'thanks': 185,\n",
              " 'also': 186,\n",
              " 'even': 187,\n",
              " 'message': 188,\n",
              " 'were': 189,\n",
              " 'went': 190,\n",
              " 'next': 191,\n",
              " 'anything': 192,\n",
              " 'could': 193,\n",
              " 'which': 194,\n",
              " 'lol': 195,\n",
              " 'feel': 196,\n",
              " 'buy': 197,\n",
              " 'many': 198,\n",
              " 'prize': 199,\n",
              " 'gonna': 200,\n",
              " 'tomorrow': 201,\n",
              " 'someone': 202,\n",
              " 'it.': 203,\n",
              " 'his': 204,\n",
              " 'sure': 205,\n",
              " 'msg': 206,\n",
              " ':)': 207,\n",
              " 'per': 208,\n",
              " 'lor...': 209,\n",
              " \"can't\": 210,\n",
              " '!': 211,\n",
              " 'before': 212,\n",
              " 'dun': 213,\n",
              " \"that's\": 214,\n",
              " 'us': 215,\n",
              " 'always': 216,\n",
              " 'sorry,': 217,\n",
              " 'around': 218,\n",
              " 'yes': 219,\n",
              " 'wait': 220,\n",
              " 'told': 221,\n",
              " 'wan': 222,\n",
              " 'over': 223,\n",
              " 'service': 224,\n",
              " 'something': 225,\n",
              " 'ìï': 226,\n",
              " '3': 227,\n",
              " 'waiting': 228,\n",
              " \"you're\": 229,\n",
              " 'first': 230,\n",
              " 'gud': 231,\n",
              " 'leave': 232,\n",
              " 'customer': 233,\n",
              " 'chat': 234,\n",
              " 'other': 235,\n",
              " 'already': 236,\n",
              " 'down': 237,\n",
              " 'thk': 238,\n",
              " 'ok.': 239,\n",
              " 'care': 240,\n",
              " 'day.': 241,\n",
              " 'getting': 242,\n",
              " 'thing': 243,\n",
              " 'place': 244,\n",
              " 'life': 245,\n",
              " 'off': 246,\n",
              " 'morning': 247,\n",
              " 'may': 248,\n",
              " 'try': 249,\n",
              " 'being': 250,\n",
              " 'trying': 251,\n",
              " 'never': 252,\n",
              " 'things': 253,\n",
              " 'coming': 254,\n",
              " 'nice': 255,\n",
              " 'wish': 256,\n",
              " 'you!': 257,\n",
              " 'urgent!': 258,\n",
              " \"didn't\": 259,\n",
              " 'thought': 260,\n",
              " 'babe': 261,\n",
              " 'draw': 262,\n",
              " 'money': 263,\n",
              " 'u.': 264,\n",
              " 'people': 265,\n",
              " 'few': 266,\n",
              " 'having': 267,\n",
              " 'talk': 268,\n",
              " 'use': 269,\n",
              " 'x': 270,\n",
              " 'k': 271,\n",
              " 'late': 272,\n",
              " 'same': 273,\n",
              " 'holiday': 274,\n",
              " 'ill': 275,\n",
              " 'tone': 276,\n",
              " 'finish': 277,\n",
              " 'no.': 278,\n",
              " 'bit': 279,\n",
              " 'thats': 280,\n",
              " 'ya': 281,\n",
              " 'friends': 282,\n",
              " 'live': 283,\n",
              " 'half': 284,\n",
              " 'awarded': 285,\n",
              " 'y': 286,\n",
              " 'than': 287,\n",
              " 'sleep': 288,\n",
              " 'receive': 289,\n",
              " 'latest': 290,\n",
              " 'v': 291,\n",
              " 'wanna': 292,\n",
              " 'name': 293,\n",
              " 'friend': 294,\n",
              " '*': 295,\n",
              " 'long': 296,\n",
              " 'better': 297,\n",
              " 'account': 298,\n",
              " 'because': 299,\n",
              " 'da.': 300,\n",
              " '1st': 301,\n",
              " 'you,': 302,\n",
              " 'best': 303,\n",
              " 'another': 304,\n",
              " 'shows': 305,\n",
              " 'jus': 306,\n",
              " 'dat': 307,\n",
              " 'box': 308,\n",
              " 'meeting': 309,\n",
              " 'mins': 310,\n",
              " 'watching': 311,\n",
              " 'smile': 312,\n",
              " 'guess': 313,\n",
              " 'into': 314,\n",
              " 'might': 315,\n",
              " 'quite': 316,\n",
              " 'soon': 317,\n",
              " 'stuff': 318,\n",
              " 'help': 319,\n",
              " 'eat': 320,\n",
              " 'car': 321,\n",
              " 'sms': 322,\n",
              " 'check': 323,\n",
              " 'there.': 324,\n",
              " 'real': 325,\n",
              " 'å£1000': 326,\n",
              " 'ready': 327,\n",
              " 'person': 328,\n",
              " 'heart': 329,\n",
              " 'lunch': 330,\n",
              " 'year': 331,\n",
              " 'special': 332,\n",
              " 'again': 333,\n",
              " 'guys': 334,\n",
              " 'big': 335,\n",
              " 'called': 336,\n",
              " 'po': 337,\n",
              " 'chance': 338,\n",
              " 'enjoy': 339,\n",
              " 'speak': 340,\n",
              " 'wont': 341,\n",
              " 'man': 342,\n",
              " 'play': 343,\n",
              " 'end': 344,\n",
              " 'home.': 345,\n",
              " 'once': 346,\n",
              " 'yup': 347,\n",
              " 'between': 348,\n",
              " '5': 349,\n",
              " 'actually': 350,\n",
              " 'probably': 351,\n",
              " 'does': 352,\n",
              " 'look': 353,\n",
              " '2nd': 354,\n",
              " ',': 355,\n",
              " 'maybe': 356,\n",
              " '150ppm': 357,\n",
              " 'ok...': 358,\n",
              " 'reach': 359,\n",
              " 'watch': 360,\n",
              " 'video': 361,\n",
              " 'ever': 362,\n",
              " 'remember': 363,\n",
              " 'you?': 364,\n",
              " 'done': 365,\n",
              " \"how's\": 366,\n",
              " '+': 367,\n",
              " \"he's\": 368,\n",
              " 'dis': 369,\n",
              " 'hear': 370,\n",
              " 'looking': 371,\n",
              " 'guaranteed': 372,\n",
              " 'little': 373,\n",
              " 'didnt': 374,\n",
              " 'made': 375,\n",
              " 'put': 376,\n",
              " 'den': 377,\n",
              " 'start': 378,\n",
              " 'shall': 379,\n",
              " 'camera': 380,\n",
              " 'cost': 381,\n",
              " 'pay': 382,\n",
              " 'most': 383,\n",
              " 'now?': 384,\n",
              " 'without': 385,\n",
              " 'i.ll': 386,\n",
              " 'time.': 387,\n",
              " 'dunno': 388,\n",
              " 'two': 389,\n",
              " 'minutes': 390,\n",
              " 'mind': 391,\n",
              " 'days': 392,\n",
              " 'until': 393,\n",
              " 'wif': 394,\n",
              " 'selected': 395,\n",
              " 'today.': 396,\n",
              " 'thank': 397,\n",
              " \"there's\": 398,\n",
              " 'part': 399,\n",
              " 'class': 400,\n",
              " 'forgot': 401,\n",
              " 'nothing': 402,\n",
              " 'says': 403,\n",
              " 'those': 404,\n",
              " 'collect': 405,\n",
              " 'hour': 406,\n",
              " 'shit': 407,\n",
              " 'entry': 408,\n",
              " 'goes': 409,\n",
              " 'wanted': 410,\n",
              " 'tonight': 411,\n",
              " 'since': 412,\n",
              " 'came': 413,\n",
              " 'lot': 414,\n",
              " 'must': 415,\n",
              " 'luv': 416,\n",
              " 'job': 417,\n",
              " 'able': 418,\n",
              " 'hav': 419,\n",
              " 'shopping': 420,\n",
              " 'bring': 421,\n",
              " 'bad': 422,\n",
              " 'dad': 423,\n",
              " 'early': 424,\n",
              " 'network': 425,\n",
              " 'left': 426,\n",
              " 'room': 427,\n",
              " 'sweet': 428,\n",
              " 'means': 429,\n",
              " 'abt': 430,\n",
              " 'u?': 431,\n",
              " 'juz': 432,\n",
              " 'join': 433,\n",
              " 'asked': 434,\n",
              " 'yo': 435,\n",
              " '16': 436,\n",
              " 'god': 437,\n",
              " 'fuck': 438,\n",
              " 'plus': 439,\n",
              " 'world': 440,\n",
              " 'xxx': 441,\n",
              " 'dinner': 442,\n",
              " 'till': 443,\n",
              " 'ringtone': 444,\n",
              " 'it,': 445,\n",
              " 'later.': 446,\n",
              " 'birthday': 447,\n",
              " '4*': 448,\n",
              " 'do.': 449,\n",
              " 'tv': 450,\n",
              " 'haha': 451,\n",
              " 'face': 452,\n",
              " 'everything': 453,\n",
              " 'wake': 454,\n",
              " 'line': 455,\n",
              " 'orange': 456,\n",
              " 'tones': 457,\n",
              " 'fun': 458,\n",
              " 'valid': 459,\n",
              " 'bus': 460,\n",
              " 'that.': 461,\n",
              " 'saw': 462,\n",
              " 'making': 463,\n",
              " 'bt': 464,\n",
              " 'out.': 465,\n",
              " 'xmas': 466,\n",
              " '&lt;decimal&gt;': 467,\n",
              " 'important': 468,\n",
              " '500': 469,\n",
              " 'plan': 470,\n",
              " 'wot': 471,\n",
              " 'min': 472,\n",
              " 'attempt': 473,\n",
              " 'lor': 474,\n",
              " 'makes': 475,\n",
              " 'word': 476,\n",
              " 'update': 477,\n",
              " 'enough': 478,\n",
              " '16+': 479,\n",
              " \"we're\": 480,\n",
              " \"won't\": 481,\n",
              " 'tried': 482,\n",
              " 'double': 483,\n",
              " 'me?': 484,\n",
              " 'wen': 485,\n",
              " \"haven't\": 486,\n",
              " 'havent': 487,\n",
              " 'show': 488,\n",
              " 'top': 489,\n",
              " 'haf': 490,\n",
              " 'til': 491,\n",
              " 'working': 492,\n",
              " \"what's\": 493,\n",
              " 'sexy': 494,\n",
              " '18': 495,\n",
              " 'missed': 496,\n",
              " 'girl': 497,\n",
              " 'plz': 498,\n",
              " 'weekly': 499,\n",
              " 'sat': 500,\n",
              " ':-)': 501,\n",
              " 'guy': 502,\n",
              " 'town': 503,\n",
              " 'å£100': 504,\n",
              " 'colour': 505,\n",
              " 'price': 506,\n",
              " 'school': 507,\n",
              " 'todays': 508,\n",
              " 'house': 509,\n",
              " 'liao...': 510,\n",
              " 'run': 511,\n",
              " 'wid': 512,\n",
              " 'texts': 513,\n",
              " 'stay': 514,\n",
              " 'tot': 515,\n",
              " 'details': 516,\n",
              " 'wants': 517,\n",
              " 'boy': 518,\n",
              " 'yet': 519,\n",
              " 'gift': 520,\n",
              " '8007': 521,\n",
              " 'set': 522,\n",
              " 'free!': 523,\n",
              " 'ard': 524,\n",
              " 'delivery': 525,\n",
              " 'bonus': 526,\n",
              " 'driving': 527,\n",
              " 'å£2000': 528,\n",
              " 'tonight?': 529,\n",
              " 'missing': 530,\n",
              " 'years': 531,\n",
              " 'oh.': 532,\n",
              " 'full': 533,\n",
              " \"we'll\": 534,\n",
              " 'change': 535,\n",
              " '150p': 536,\n",
              " 'either': 537,\n",
              " 'while': 538,\n",
              " 'saying': 539,\n",
              " 'away': 540,\n",
              " 'await': 541,\n",
              " '6': 542,\n",
              " 'pounds': 543,\n",
              " 'work.': 544,\n",
              " 'calls': 545,\n",
              " 'pain': 546,\n",
              " 'hair': 547,\n",
              " 'å£5000': 548,\n",
              " 'guaranteed.': 549,\n",
              " 'offer': 550,\n",
              " 'hello': 551,\n",
              " 'times': 552,\n",
              " 'coz': 553,\n",
              " 'hot': 554,\n",
              " '86688': 555,\n",
              " 'yeah,': 556,\n",
              " 'landline.': 557,\n",
              " 'these': 558,\n",
              " 't&cs': 559,\n",
              " 'good.': 560,\n",
              " 'lar...': 561,\n",
              " 'final': 562,\n",
              " 'forget': 563,\n",
              " 're': 564,\n",
              " 'took': 565,\n",
              " 'month': 566,\n",
              " 'finished': 567,\n",
              " 'stop.': 568,\n",
              " 'started': 569,\n",
              " 'cause': 570,\n",
              " 'mean': 571,\n",
              " 'taking': 572,\n",
              " 'both': 573,\n",
              " 'happen': 574,\n",
              " 'wil': 575,\n",
              " 'vouchers': 576,\n",
              " 'music': 577,\n",
              " '750': 578,\n",
              " 'hurt': 579,\n",
              " 'babe,': 580,\n",
              " 'book': 581,\n",
              " 'land': 582,\n",
              " 'å£500': 583,\n",
              " 'princess!': 584,\n",
              " 'lose': 585,\n",
              " 'neva': 586,\n",
              " 'feeling': 587,\n",
              " 'drive': 588,\n",
              " \"she's\": 589,\n",
              " 'beautiful': 590,\n",
              " 'apply': 591,\n",
              " 'å£1.50': 592,\n",
              " 'hours': 593,\n",
              " 'no:': 594,\n",
              " 'aft': 595,\n",
              " 'now,': 596,\n",
              " 'mob': 597,\n",
              " 'urgent': 598,\n",
              " 'test': 599,\n",
              " 'old': 600,\n",
              " '12hrs': 601,\n",
              " 'expires': 602,\n",
              " 'answer': 603,\n",
              " 'each': 604,\n",
              " 'believe': 605,\n",
              " 'worth': 606,\n",
              " 'gr8': 607,\n",
              " 'tmr': 608,\n",
              " 'found': 609,\n",
              " 'aight': 610,\n",
              " 'anyway': 611,\n",
              " 'walk': 612,\n",
              " 'up.': 613,\n",
              " 'ring': 614,\n",
              " 'baby': 615,\n",
              " 'mail': 616,\n",
              " 'right?': 617,\n",
              " 'post': 618,\n",
              " 'evening': 619,\n",
              " 'busy': 620,\n",
              " 'week.': 621,\n",
              " 'head': 622,\n",
              " 'line.': 623,\n",
              " '7': 624,\n",
              " 'thinking': 625,\n",
              " 'bored': 626,\n",
              " 'sch': 627,\n",
              " 'shop': 628,\n",
              " 'family': 629,\n",
              " 'knw': 630,\n",
              " 'prize.': 631,\n",
              " 'it?': 632,\n",
              " 'dude': 633,\n",
              " 'sad': 634,\n",
              " 'goin': 635,\n",
              " 'though': 636,\n",
              " 'code': 637,\n",
              " '100': 638,\n",
              " 'pobox': 639,\n",
              " 'date': 640,\n",
              " 'decided': 641,\n",
              " 'yourself': 642,\n",
              " 'trip': 643,\n",
              " 'comes': 644,\n",
              " 'too.': 645,\n",
              " 'search': 646,\n",
              " 'private!': 647,\n",
              " 'statement': 648,\n",
              " 'points.': 649,\n",
              " 'identifier': 650,\n",
              " 'me,': 651,\n",
              " 'lots': 652,\n",
              " 'leaving': 653,\n",
              " 'today?': 654,\n",
              " 'needs': 655,\n",
              " 'smoke': 656,\n",
              " 'sis': 657,\n",
              " 'story': 658,\n",
              " 'id': 659,\n",
              " 'oso': 660,\n",
              " 'sounds': 661,\n",
              " 'thanx': 662,\n",
              " 'angry': 663,\n",
              " 'takes': 664,\n",
              " 'unsubscribe': 665,\n",
              " 'choose': 666,\n",
              " 'food': 667,\n",
              " 'lets': 668,\n",
              " 'message.': 669,\n",
              " 'calling': 670,\n",
              " 'problem': 671,\n",
              " 'mobileupd8': 672,\n",
              " 'bed': 673,\n",
              " 'office': 674,\n",
              " 'together': 675,\n",
              " 's': 676,\n",
              " 'only.': 677,\n",
              " 'words': 678,\n",
              " 'fine': 679,\n",
              " \"doesn't\": 680,\n",
              " 'lucky': 681,\n",
              " 'pa.': 682,\n",
              " 'close': 683,\n",
              " 'aight,': 684,\n",
              " 'u!': 685,\n",
              " 'sir,': 686,\n",
              " 'open': 687,\n",
              " 'order': 688,\n",
              " 'wit': 689,\n",
              " 'noe': 690,\n",
              " 'morning.': 691,\n",
              " '08000839402': 692,\n",
              " 'back.': 693,\n",
              " 'tomorrow.': 694,\n",
              " 'drink': 695,\n",
              " 'dating': 696,\n",
              " 'fucking': 697,\n",
              " 'sae': 698,\n",
              " 'visit': 699,\n",
              " 'kind': 700,\n",
              " '18+': 701,\n",
              " 'pics': 702,\n",
              " 'drop': 703,\n",
              " 'fine.': 704,\n",
              " 'collection.': 705,\n",
              " ':-(': 706,\n",
              " 'haha...': 707,\n",
              " 'hows': 708,\n",
              " 'available': 709,\n",
              " 'wkly': 710,\n",
              " 'brother': 711,\n",
              " 'already?': 712,\n",
              " 'alright': 713,\n",
              " '08000930705': 714,\n",
              " 'telling': 715,\n",
              " 'class.': 716,\n",
              " 'whole': 717,\n",
              " 'second': 718,\n",
              " 'girls': 719,\n",
              " 'free.': 720,\n",
              " 'ah?': 721,\n",
              " 'address': 722,\n",
              " 'operator': 723,\n",
              " 'code:': 724,\n",
              " \"you'll\": 725,\n",
              " 'services': 726,\n",
              " 'yr': 727,\n",
              " 'k,': 728,\n",
              " 'their': 729,\n",
              " 'fancy': 730,\n",
              " \"you've\": 731,\n",
              " 'carlos': 732,\n",
              " 'log': 733,\n",
              " 'weekend': 734,\n",
              " 'easy': 735,\n",
              " 'secret': 736,\n",
              " 'thinks': 737,\n",
              " 'hold': 738,\n",
              " 'true': 739,\n",
              " 'anytime': 740,\n",
              " 'card': 741,\n",
              " 'me...': 742,\n",
              " 'sister': 743,\n",
              " 'great.': 744,\n",
              " 'touch': 745,\n",
              " 'light': 746,\n",
              " 'cool': 747,\n",
              " 'messages': 748,\n",
              " 'bout': 749,\n",
              " 'poly': 750,\n",
              " 'å£250': 751,\n",
              " 'question': 752,\n",
              " 'ten': 753,\n",
              " '10': 754,\n",
              " 'u...': 755,\n",
              " 'outside': 756,\n",
              " 'pretty': 757,\n",
              " 'voucher': 758,\n",
              " 'b4': 759,\n",
              " 'break': 760,\n",
              " 'lovely': 761,\n",
              " 'movie': 762,\n",
              " 'de': 763,\n",
              " 'online': 764,\n",
              " 'lei...': 765,\n",
              " 't&c': 766,\n",
              " 'wonderful': 767,\n",
              " 'lesson': 768,\n",
              " 'almost': 769,\n",
              " 'used': 770,\n",
              " '0800': 771,\n",
              " 'prize!': 772,\n",
              " 'wk': 773,\n",
              " 'else': 774,\n",
              " 'gone': 775,\n",
              " 'hit': 776,\n",
              " 'felt': 777,\n",
              " 'caller': 778,\n",
              " 'landline': 779,\n",
              " 'player': 780,\n",
              " '..': 781,\n",
              " 'everyone': 782,\n",
              " 'frnd': 783,\n",
              " 'already.': 784,\n",
              " 'night.': 785,\n",
              " 'her.': 786,\n",
              " 'awesome,': 787,\n",
              " 'year.': 788,\n",
              " 'darlin': 789,\n",
              " 'finally': 790,\n",
              " 'nite': 791,\n",
              " 'meant': 792,\n",
              " 'fr': 793,\n",
              " 'congratulations': 794,\n",
              " '87066': 795,\n",
              " 'u,': 796,\n",
              " 'dnt': 797,\n",
              " 'unlimited': 798,\n",
              " 'type': 799,\n",
              " 'bslvyl': 800,\n",
              " 'yes.': 801,\n",
              " 'friendship': 802,\n",
              " 'read': 803,\n",
              " 'seeing': 804,\n",
              " 'currently': 805,\n",
              " 'talking': 806,\n",
              " 'worry': 807,\n",
              " 'couple': 808,\n",
              " 'care.': 809,\n",
              " 'eve': 810,\n",
              " 'g': 811,\n",
              " 'apply.': 812,\n",
              " 't': 813,\n",
              " 'within': 814,\n",
              " '2003': 815,\n",
              " '800': 816,\n",
              " 'kiss': 817,\n",
              " 'it!': 818,\n",
              " 'mum': 819,\n",
              " 'opt': 820,\n",
              " '10p': 821,\n",
              " 'anyone': 822,\n",
              " 'week!': 823,\n",
              " 'rate': 824,\n",
              " 'wife': 825,\n",
              " 'ok?': 826,\n",
              " 'party': 827,\n",
              " '!!': 828,\n",
              " 'mine': 829,\n",
              " 'dear.': 830,\n",
              " 'alone': 831,\n",
              " 'w': 832,\n",
              " 'gas': 833,\n",
              " '||': 834,\n",
              " 'wat...': 835,\n",
              " \"i'd\": 836,\n",
              " 'treat': 837,\n",
              " 'national': 838,\n",
              " 'smth': 839,\n",
              " 'complimentary': 840,\n",
              " 'cool.': 841,\n",
              " 'here.': 842,\n",
              " 'gotta': 843,\n",
              " 'afternoon': 844,\n",
              " 'sorry.': 845,\n",
              " 'mom': 846,\n",
              " 'direct': 847,\n",
              " 'download': 848,\n",
              " 'bank': 849,\n",
              " 'well,': 850,\n",
              " 'minute': 851,\n",
              " 'leh...': 852,\n",
              " 'know.': 853,\n",
              " 'hard': 854,\n",
              " 'company': 855,\n",
              " 'case': 856,\n",
              " 'then.': 857,\n",
              " 'blue': 858,\n",
              " 'swing': 859,\n",
              " 'cool,': 860,\n",
              " 'award': 861,\n",
              " 'th': 862,\n",
              " 'supposed': 863,\n",
              " 'month.': 864,\n",
              " 'easy,': 865,\n",
              " '2.': 866,\n",
              " '4.': 867,\n",
              " 'offers': 868,\n",
              " 'un-redeemed': 869,\n",
              " 'sea': 870,\n",
              " 'yar': 871,\n",
              " 'news': 872,\n",
              " 'pub': 873,\n",
              " 'weeks': 874,\n",
              " 'game': 875,\n",
              " 'mayb': 876,\n",
              " 'gd': 877,\n",
              " 'soon.': 878,\n",
              " 'nt': 879,\n",
              " 'picking': 880,\n",
              " 'kiss*': 881,\n",
              " 'least': 882,\n",
              " 'pic': 883,\n",
              " 'sex': 884,\n",
              " 'enter': 885,\n",
              " 'in.': 886,\n",
              " 'smiling': 887,\n",
              " 'it...': 888,\n",
              " 'valued': 889,\n",
              " 'eh': 890,\n",
              " 'eg': 891,\n",
              " 'ha': 892,\n",
              " 'charged': 893,\n",
              " 'crave': 894,\n",
              " 'gets': 895,\n",
              " '@': 896,\n",
              " 'pass': 897,\n",
              " 'yours.': 898,\n",
              " 'checking': 899,\n",
              " 'cut': 900,\n",
              " 'loads': 901,\n",
              " 'prob': 902,\n",
              " 'yet.': 903,\n",
              " \"isn't\": 904,\n",
              " 'entered': 905,\n",
              " 'askd': 906,\n",
              " 'invited': 907,\n",
              " 'winner': 908,\n",
              " 'numbers': 909,\n",
              " 'award.': 910,\n",
              " 'dogging': 911,\n",
              " 'txting': 912,\n",
              " 'age': 913,\n",
              " 'whats': 914,\n",
              " 'wine': 915,\n",
              " 'one.': 916,\n",
              " 'love.': 917,\n",
              " 'way.': 918,\n",
              " 'ya,': 919,\n",
              " 'muz': 920,\n",
              " 'kate': 921,\n",
              " 'sleeping': 922,\n",
              " 'march': 923,\n",
              " 'txt:': 924,\n",
              " 'tel': 925,\n",
              " 'okay.': 926,\n",
              " 'wana': 927,\n",
              " 'club': 928,\n",
              " 'day,': 929,\n",
              " 'fone': 930,\n",
              " 'somebody': 931,\n",
              " '1.': 932,\n",
              " 'problem.': 933,\n",
              " 'reading': 934,\n",
              " 'via': 935,\n",
              " 'jay': 936,\n",
              " 'st': 937,\n",
              " 'discount': 938,\n",
              " 'seen': 939,\n",
              " 'phones': 940,\n",
              " 'call.': 941,\n",
              " 'asking': 942,\n",
              " 'sending': 943,\n",
              " '3.': 944,\n",
              " '8': 945,\n",
              " 'å£2,000': 946,\n",
              " 'listen': 947,\n",
              " 'through': 948,\n",
              " 'darren': 949,\n",
              " 'å£350': 950,\n",
              " 'sun': 951,\n",
              " 'whatever': 952,\n",
              " '\\x89û_': 953,\n",
              " 'extra': 954,\n",
              " 'yesterday': 955,\n",
              " 'collection': 956,\n",
              " 'whenever': 957,\n",
              " 'sort': 958,\n",
              " 'knew': 959,\n",
              " 'already...': 960,\n",
              " 'truth': 961,\n",
              " 'feels': 962,\n",
              " 'it..': 963,\n",
              " 'heard': 964,\n",
              " 'crazy': 965,\n",
              " 'frm': 966,\n",
              " 'don': 967,\n",
              " 'yes,': 968,\n",
              " 'support': 969,\n",
              " 'surprise': 970,\n",
              " '*grins*': 971,\n",
              " 'wrong': 972,\n",
              " 'ok,': 973,\n",
              " 'life.': 974,\n",
              " 'loved': 975,\n",
              " '9': 976,\n",
              " 'auction': 977,\n",
              " \"wasn't\": 978,\n",
              " 'number.': 979,\n",
              " 'this.': 980,\n",
              " 'okie': 981,\n",
              " 'comp': 982,\n",
              " 'callertune': 983,\n",
              " 'press': 984,\n",
              " 'mobiles': 985,\n",
              " 'knows': 986,\n",
              " '=': 987,\n",
              " 'out!': 988,\n",
              " 'lar': 989,\n",
              " 'rply': 990,\n",
              " 'xx': 991,\n",
              " 'now...': 992,\n",
              " 'night?': 993,\n",
              " 'representative': 994,\n",
              " 'hi.': 995,\n",
              " 'gave': 996,\n",
              " 'computer': 997,\n",
              " 'pa': 998,\n",
              " \"''\": 999,\n",
              " 'uncle': 1000,\n",
              " ...}"
            ]
          },
          "metadata": {},
          "execution_count": 43
        }
      ],
      "source": [
        "# we get the word index using here\n",
        "# for e.g. a number is assigned to any word\n",
        "# for some text, we just substitute the word for the index based on this assignment\n",
        "# note index of this starts from 1\n",
        "\n",
        "# this list the assigned index to each word\n",
        "tokenizer.word_index"
      ]
    },
    {
      "cell_type": "code",
      "execution_count": null,
      "metadata": {
        "id": "l9Y-iD2nB7ie"
      },
      "outputs": [],
      "source": [
        "# get the length for every list in x, i.e. number of words in each article\n",
        "[len(i) for i in x]"
      ]
    },
    {
      "cell_type": "code",
      "execution_count": null,
      "metadata": {
        "colab": {
          "base_uri": "https://localhost:8080/",
          "height": 265
        },
        "id": "T2NaOy3UCeFz",
        "outputId": "16cbd430-a65c-4444-f0c3-1e2b1a4be056"
      },
      "outputs": [
        {
          "output_type": "display_data",
          "data": {
            "text/plain": [
              "<Figure size 432x288 with 1 Axes>"
            ],
            "image/png": "[encoded data removed]"
          },
          "metadata": {
            "needs_background": "light"
          }
        }
      ],
      "source": [
        "# now we analyse our text data using a histogram\n",
        "plt.hist([len(i) for i in x], bins = 50)\n",
        "plt.show()"
      ]
    },
    {
      "cell_type": "code",
      "execution_count": null,
      "metadata": {
        "colab": {
          "base_uri": "https://localhost:8080/"
        },
        "id": "jJ6kOnoBCeAs",
        "outputId": "d513f2d7-a94b-4c5b-b7d5-2af4bab6ce1e"
      },
      "outputs": [
        {
          "output_type": "execute_result",
          "data": {
            "text/plain": [
              "6"
            ]
          },
          "metadata": {},
          "execution_count": 46
        }
      ],
      "source": [
        "# create array to indicate number of words for sms i\n",
        "nos = np.array([len(i) for i in x])\n",
        "# count numer of articles with word count > 100\n",
        "len(nos[nos>100])"
      ]
    },
    {
      "cell_type": "code",
      "execution_count": null,
      "metadata": {
        "id": "uCquoO7ZC3av"
      },
      "outputs": [],
      "source": [
        "# we create a threshold of word limit\n",
        "maxlen = 100\n",
        "# when sequence is more than 100, truncate, if less than 100 pad it\n",
        "x = pad_sequences(x, maxlen=maxlen)"
      ]
    },
    {
      "cell_type": "code",
      "execution_count": null,
      "metadata": {
        "colab": {
          "base_uri": "https://localhost:8080/"
        },
        "id": "rz4Est4fD2-c",
        "outputId": "3a8a3e01-c0fc-4d1d-c0ae-dd66af25cad8"
      },
      "outputs": [
        {
          "output_type": "execute_result",
          "data": {
            "text/plain": [
              "100"
            ]
          },
          "metadata": {},
          "execution_count": 48
        }
      ],
      "source": [
        "# now len of any sequence is 1000\n",
        "len(x[3])"
      ]
    },
    {
      "cell_type": "code",
      "source": [
        "# we put +1 as there are many words that may not come in the tokens\n",
        "# for those words, we consider those as unknown words which creates another sequence\n",
        "vocab_len = len(tokenizer.word_index) + 1\n",
        "# voc takes on the tokenizer.word_index which represents the word to index conversion\n",
        "voc = tokenizer.word_index"
      ],
      "metadata": {
        "id": "WY5MLKq65SeM"
      },
      "execution_count": null,
      "outputs": []
    },
    {
      "cell_type": "code",
      "source": [
        "# feed vectors as the initial weight in the machine learning model and then we use the machine learning model to retrain this weight to find the maximum accuracy\n",
        "def get_weight_matrix(model):\n",
        "  # weight matrix for the words\n",
        "  weight_matrix = np.zeros((vocab_len, dim))\n",
        "  for word, i in voc.items():\n",
        "    # assign the weight\n",
        "    weight_matrix[i] = model.wv[word]\n",
        "\n",
        "  return weight_matrix"
      ],
      "metadata": {
        "id": "65UeX-W95VAm"
      },
      "execution_count": null,
      "outputs": []
    },
    {
      "cell_type": "code",
      "source": [
        "weight_matrix = get_weight_matrix(w2v)"
      ],
      "metadata": {
        "id": "9sQg8pnk5X2W"
      },
      "execution_count": null,
      "outputs": []
    },
    {
      "cell_type": "code",
      "source": [
        "# gives us shape of the matrix\n",
        "weight_matrix.shape"
      ],
      "metadata": {
        "colab": {
          "base_uri": "https://localhost:8080/"
        },
        "id": "Uq5YLDLf5Zmf",
        "outputId": "74ad8cb1-099f-4807-c373-9a75319e7441"
      },
      "execution_count": null,
      "outputs": [
        {
          "output_type": "execute_result",
          "data": {
            "text/plain": [
              "(13497, 100)"
            ]
          },
          "metadata": {},
          "execution_count": 52
        }
      ]
    },
    {
      "cell_type": "code",
      "source": [
        "# so all in all, the weight_matrix represents a weight_matrix\n",
        "# i-th element is the array of dim-sized vectors assigned to the word with i-th index as tokenisation\n",
        "# in this case, 1 represents the word 'the'\n",
        "weight_matrix[1]"
      ],
      "metadata": {
        "colab": {
          "base_uri": "https://localhost:8080/"
        },
        "id": "CWOUT17J5b_D",
        "outputId": "02a8669e-b42d-478f-ea80-56d67a136bfc"
      },
      "execution_count": null,
      "outputs": [
        {
          "output_type": "execute_result",
          "data": {
            "text/plain": [
              "array([-1.10477936, -0.08390809,  0.75960952,  0.11470152,  0.30442554,\n",
              "       -0.53068602,  0.1256014 ,  0.50206077, -0.86189437, -0.69815975,\n",
              "       -0.81311786,  1.08158457, -2.36689973,  1.60599196,  1.62149107,\n",
              "        1.33629966,  0.80211014,  1.90906346,  0.63001502, -1.41993225,\n",
              "       -1.11521482, -0.32550642,  2.5143013 ,  2.29145074,  3.15244222,\n",
              "        1.79303741,  2.51079822, -2.13957787,  0.96223617,  0.39582554,\n",
              "        2.14323378, -0.22670299,  1.10349214,  0.65239525, -0.0273801 ,\n",
              "       -1.22230065, -0.58078814, -0.86589521,  2.04133296, -0.26780549,\n",
              "       -1.24163973, -2.00297689,  0.50699335, -0.77582079, -0.16308686,\n",
              "        0.9228431 ,  0.74194831, -0.55513555,  2.99448299,  0.30160284,\n",
              "       -1.07749689,  0.1783998 , -0.51579702, -0.29885972, -0.87900484,\n",
              "       -0.89776802, -0.57298952, -0.86959213, -0.49021691, -1.12364292,\n",
              "       -0.0926678 , -0.08235647, -0.57001758,  0.34004223,  2.16257977,\n",
              "       -0.36076233,  0.27123967, -1.8967725 ,  0.78524125,  0.32183281,\n",
              "       -0.53037006, -3.00620341, -0.37496006,  0.30663377, -0.11744884,\n",
              "       -2.03918576,  0.90076828,  0.14689109,  0.45583421,  0.3740806 ,\n",
              "       -1.55184674, -0.06320738,  0.38647652,  1.45320511, -0.59657526,\n",
              "       -1.94232965, -1.19215548, -0.74663234, -0.45386207, -2.34876633,\n",
              "        0.74859446,  0.61560625,  0.43790108,  1.45661962, -0.26846853,\n",
              "        1.53179157,  1.16453052, -2.30506873, -0.56440771,  1.01501429])"
            ]
          },
          "metadata": {},
          "execution_count": 53
        }
      ]
    },
    {
      "cell_type": "markdown",
      "metadata": {
        "id": "cGZg35YDEIfw"
      },
      "source": [
        "# **Simple Machine Learning Model**"
      ]
    },
    {
      "cell_type": "markdown",
      "metadata": {
        "id": "7E2cSKFdEk2G"
      },
      "source": [
        "Sequential model is one of two different approaches we can use in building our models in tensorflow.\n",
        "\n",
        "Sequential model is good for simple sequential stacks of layers where each layers has one input, and one outpus.\n",
        "\n",
        "Most models are made of layers, layers are functions with known mathematical structure that can be reused and have trainable variables.\n"
      ]
    },
    {
      "cell_type": "code",
      "execution_count": null,
      "metadata": {
        "id": "s1SWFnMUEIRl"
      },
      "outputs": [],
      "source": [
        "# here we create our machine learning model; we create an instance of the Sequential Class\n",
        "model = Sequential()\n",
        "\n",
        "# model layers are subsequently added to it\n",
        "\n",
        "# here we add an embedding layer - first arg is number of distinct words in training set; second arg is size of embedding vector (dim of vectorisation); \n",
        "# third arg is just our array of weights for the words; fourth arg is the size of each input sequence; last arg indicates if we want our weight_matrix\n",
        "# to be trainable, i.e. to adapt according to the machine learning\n",
        "model.add(Embedding(vocab_len, output_dim=dim, weights = [weight_matrix], input_length=maxlen, trainable=True))\n",
        "\n",
        "# here we add a long short-term memory layer. lstm is a special version of RNN which solves short term memory problem\n",
        "# unit refers to the dimensionality of the output space, which is the dimension of the hidden state vector a that is the\n",
        "# state output from RNN cell\n",
        "model.add(LSTM(units=128))\n",
        "\n",
        "# adding a dense layer. \n",
        "# first arg represents the number of units and it affects the output layer; second arg represents the activation function\n",
        "# here we are using sigmoid as the activation function and it guarantees that the output of this unit will always be between 0 and 1\n",
        "model.add(Dense(1, activation='sigmoid'))\n",
        "\n",
        "# compile the model since we already defined it\n",
        "model.compile(optimizer='adam', loss='binary_crossentropy', metrics=['acc'])"
      ]
    },
    {
      "cell_type": "code",
      "execution_count": null,
      "metadata": {
        "id": "3kAxdwvQE_xy",
        "colab": {
          "base_uri": "https://localhost:8080/"
        },
        "outputId": "729e7afe-304e-4395-9e27-fcb41c1a5b74"
      },
      "outputs": [
        {
          "output_type": "stream",
          "name": "stdout",
          "text": [
            "Model: \"sequential\"\n",
            "_________________________________________________________________\n",
            " Layer (type)                Output Shape              Param #   \n",
            "=================================================================\n",
            " embedding (Embedding)       (None, 100, 100)          1349700   \n",
            "                                                                 \n",
            " lstm (LSTM)                 (None, 128)               117248    \n",
            "                                                                 \n",
            " dense (Dense)               (None, 1)                 129       \n",
            "                                                                 \n",
            "=================================================================\n",
            "Total params: 1,467,077\n",
            "Trainable params: 1,467,077\n",
            "Non-trainable params: 0\n",
            "_________________________________________________________________\n"
          ]
        }
      ],
      "source": [
        "# summary of model\n",
        "model.summary()"
      ]
    },
    {
      "cell_type": "code",
      "source": [
        "# split data sets into training and testing sets\n",
        "# recall x is the text and y is the class \n",
        "x_train, x_test, y_train, y_test = train_test_split(x,y)"
      ],
      "metadata": {
        "id": "RkfqKahr5ujv"
      },
      "execution_count": null,
      "outputs": []
    },
    {
      "cell_type": "markdown",
      "metadata": {
        "id": "YEJD2006FVZd"
      },
      "source": [
        "# **Training**"
      ]
    },
    {
      "cell_type": "code",
      "execution_count": null,
      "metadata": {
        "id": "p8dE9kj_FZdQ",
        "colab": {
          "base_uri": "https://localhost:8080/"
        },
        "outputId": "8b16c299-d101-4600-d9de-0dfe40648ed6"
      },
      "outputs": [
        {
          "output_type": "stream",
          "name": "stdout",
          "text": [
            "Epoch 1/6\n",
            "92/92 [==============================] - 30s 289ms/step - loss: 0.2954 - acc: 0.8885 - val_loss: 0.2483 - val_acc: 0.8963\n",
            "Epoch 2/6\n",
            "92/92 [==============================] - 16s 179ms/step - loss: 0.1532 - acc: 0.9439 - val_loss: 0.0773 - val_acc: 0.9793\n",
            "Epoch 3/6\n",
            "92/92 [==============================] - 15s 164ms/step - loss: 0.0373 - acc: 0.9915 - val_loss: 0.0578 - val_acc: 0.9833\n",
            "Epoch 4/6\n",
            "92/92 [==============================] - 16s 169ms/step - loss: 0.0140 - acc: 0.9952 - val_loss: 0.0844 - val_acc: 0.9657\n",
            "Epoch 5/6\n",
            "92/92 [==============================] - 16s 177ms/step - loss: 0.0084 - acc: 0.9983 - val_loss: 0.0716 - val_acc: 0.9801\n",
            "Epoch 6/6\n",
            "92/92 [==============================] - 16s 170ms/step - loss: 0.0044 - acc: 0.9993 - val_loss: 0.0803 - val_acc: 0.9793\n"
          ]
        },
        {
          "output_type": "execute_result",
          "data": {
            "text/plain": [
              "<keras.callbacks.History at 0x7fea42570e90>"
            ]
          },
          "metadata": {},
          "execution_count": 57
        }
      ],
      "source": [
        "# training\n",
        "model.fit(x_train, y_train, validation_split=0.3, epochs=6)"
      ]
    },
    {
      "cell_type": "code",
      "source": [
        "# if model.predict(x_test) outputs a value above or equals to 0.5, we round up to 1, indicating that the model thinks article is real\n",
        "prediction = (model.predict(x_test) >= 0.5).astype(int)"
      ],
      "metadata": {
        "id": "Hw4Jo6jV6qAH"
      },
      "execution_count": null,
      "outputs": []
    },
    {
      "cell_type": "code",
      "source": [
        "# prints the accuracy when tested against dataset\n",
        "accuracy_score(y_test, prediction)"
      ],
      "metadata": {
        "colab": {
          "base_uri": "https://localhost:8080/"
        },
        "id": "YKGUszXP6qUp",
        "outputId": "f7ed6d73-38f6-4179-d480-4d9f2016834a"
      },
      "execution_count": null,
      "outputs": [
        {
          "output_type": "execute_result",
          "data": {
            "text/plain": [
              "0.9770279971284996"
            ]
          },
          "metadata": {},
          "execution_count": 59
        }
      ]
    },
    {
      "cell_type": "code",
      "source": [
        "!pip install anvil-uplink\n",
        "import anvil.server\n",
        "anvil.server.connect(\"GVZMFGWPXWS6CKHWUIICWWRB-DBT47VVXR4W3KP5W\")"
      ],
      "metadata": {
        "id": "sgkySR5E9Dg0"
      },
      "execution_count": null,
      "outputs": []
    },
    {
      "cell_type": "markdown",
      "source": [
        "# **Real Test**"
      ],
      "metadata": {
        "id": "MbwDCa5h7A1f"
      }
    },
    {
      "cell_type": "code",
      "source": [
        "# upload a md file of sms message\n",
        "from google.colab import files\n",
        "uploaded = files.upload()"
      ],
      "metadata": {
        "colab": {
          "base_uri": "https://localhost:8080/",
          "height": 73
        },
        "id": "uxquMaSa7K5w",
        "outputId": "00ac6b4f-4d34-4fce-9d4a-2c19af8120a9"
      },
      "execution_count": null,
      "outputs": [
        {
          "output_type": "display_data",
          "data": {
            "text/plain": [
              "<IPython.core.display.HTML object>"
            ],
            "text/html": [
              "\n",
              "     <input type=\"file\" id=\"files-dd15f020-9e82-47ff-b670-93e67c623ab3\" name=\"files[]\" multiple disabled\n",
              "        style=\"border:none\" />\n",
              "     <output id=\"result-dd15f020-9e82-47ff-b670-93e67c623ab3\">\n",
              "      Upload widget is only available when the cell has been executed in the\n",
              "      current browser session. Please rerun this cell to enable.\n",
              "      </output>\n",
              "      <script>// Copyright 2017 Google LLC\n",
              "//\n",
              "// Licensed under the Apache License, Version 2.0 (the \"License\");\n",
              "// you may not use this file except in compliance with the License.\n",
              "// You may obtain a copy of the License at\n",
              "//\n",
              "//      http://www.apache.org/licenses/LICENSE-2.0\n",
              "//\n",
              "// Unless required by applicable law or agreed to in writing, software\n",
              "// distributed under the License is distributed on an \"AS IS\" BASIS,\n",
              "// WITHOUT WARRANTIES OR CONDITIONS OF ANY KIND, either express or implied.\n",
              "// See the License for the specific language governing permissions and\n",
              "// limitations under the License.\n",
              "\n",
              "/**\n",
              " * @fileoverview Helpers for google.colab Python module.\n",
              " */\n",
              "(function(scope) {\n",
              "function span(text, styleAttributes = {}) {\n",
              "  const element = document.createElement('span');\n",
              "  element.textContent = text;\n",
              "  for (const key of Object.keys(styleAttributes)) {\n",
              "    element.style[key] = styleAttributes[key];\n",
              "  }\n",
              "  return element;\n",
              "}\n",
              "\n",
              "// Max number of bytes which will be uploaded at a time.\n",
              "const MAX_PAYLOAD_SIZE = 100 * 1024;\n",
              "\n",
              "function _uploadFiles(inputId, outputId) {\n",
              "  const steps = uploadFilesStep(inputId, outputId);\n",
              "  const outputElement = document.getElementById(outputId);\n",
              "  // Cache steps on the outputElement to make it available for the next call\n",
              "  // to uploadFilesContinue from Python.\n",
              "  outputElement.steps = steps;\n",
              "\n",
              "  return _uploadFilesContinue(outputId);\n",
              "}\n",
              "\n",
              "// This is roughly an async generator (not supported in the browser yet),\n",
              "// where there are multiple asynchronous steps and the Python side is going\n",
              "// to poll for completion of each step.\n",
              "// This uses a Promise to block the python side on completion of each step,\n",
              "// then passes the result of the previous step as the input to the next step.\n",
              "function _uploadFilesContinue(outputId) {\n",
              "  const outputElement = document.getElementById(outputId);\n",
              "  const steps = outputElement.steps;\n",
              "\n",
              "  const next = steps.next(outputElement.lastPromiseValue);\n",
              "  return Promise.resolve(next.value.promise).then((value) => {\n",
              "    // Cache the last promise value to make it available to the next\n",
              "    // step of the generator.\n",
              "    outputElement.lastPromiseValue = value;\n",
              "    return next.value.response;\n",
              "  });\n",
              "}\n",
              "\n",
              "/**\n",
              " * Generator function which is called between each async step of the upload\n",
              " * process.\n",
              " * @param {string} inputId Element ID of the input file picker element.\n",
              " * @param {string} outputId Element ID of the output display.\n",
              " * @return {!Iterable<!Object>} Iterable of next steps.\n",
              " */\n",
              "function* uploadFilesStep(inputId, outputId) {\n",
              "  const inputElement = document.getElementById(inputId);\n",
              "  inputElement.disabled = false;\n",
              "\n",
              "  const outputElement = document.getElementById(outputId);\n",
              "  outputElement.innerHTML = '';\n",
              "\n",
              "  const pickedPromise = new Promise((resolve) => {\n",
              "    inputElement.addEventListener('change', (e) => {\n",
              "      resolve(e.target.files);\n",
              "    });\n",
              "  });\n",
              "\n",
              "  const cancel = document.createElement('button');\n",
              "  inputElement.parentElement.appendChild(cancel);\n",
              "  cancel.textContent = 'Cancel upload';\n",
              "  const cancelPromise = new Promise((resolve) => {\n",
              "    cancel.onclick = () => {\n",
              "      resolve(null);\n",
              "    };\n",
              "  });\n",
              "\n",
              "  // Wait for the user to pick the files.\n",
              "  const files = yield {\n",
              "    promise: Promise.race([pickedPromise, cancelPromise]),\n",
              "    response: {\n",
              "      action: 'starting',\n",
              "    }\n",
              "  };\n",
              "\n",
              "  cancel.remove();\n",
              "\n",
              "  // Disable the input element since further picks are not allowed.\n",
              "  inputElement.disabled = true;\n",
              "\n",
              "  if (!files) {\n",
              "    return {\n",
              "      response: {\n",
              "        action: 'complete',\n",
              "      }\n",
              "    };\n",
              "  }\n",
              "\n",
              "  for (const file of files) {\n",
              "    const li = document.createElement('li');\n",
              "    li.append(span(file.name, {fontWeight: 'bold'}));\n",
              "    li.append(span(\n",
              "        `(${file.type || 'n/a'}) - ${file.size} bytes, ` +\n",
              "        `last modified: ${\n",
              "            file.lastModifiedDate ? file.lastModifiedDate.toLocaleDateString() :\n",
              "                                    'n/a'} - `));\n",
              "    const percent = span('0% done');\n",
              "    li.appendChild(percent);\n",
              "\n",
              "    outputElement.appendChild(li);\n",
              "\n",
              "    const fileDataPromise = new Promise((resolve) => {\n",
              "      const reader = new FileReader();\n",
              "      reader.onload = (e) => {\n",
              "        resolve(e.target.result);\n",
              "      };\n",
              "      reader.readAsArrayBuffer(file);\n",
              "    });\n",
              "    // Wait for the data to be ready.\n",
              "    let fileData = yield {\n",
              "      promise: fileDataPromise,\n",
              "      response: {\n",
              "        action: 'continue',\n",
              "      }\n",
              "    };\n",
              "\n",
              "    // Use a chunked sending to avoid message size limits. See b/62115660.\n",
              "    let position = 0;\n",
              "    do {\n",
              "      const length = Math.min(fileData.byteLength - position, MAX_PAYLOAD_SIZE);\n",
              "      const chunk = new Uint8Array(fileData, position, length);\n",
              "      position += length;\n",
              "\n",
              "      const base64 = btoa(String.fromCharCode.apply(null, chunk));\n",
              "      yield {\n",
              "        response: {\n",
              "          action: 'append',\n",
              "          file: file.name,\n",
              "          data: base64,\n",
              "        },\n",
              "      };\n",
              "\n",
              "      let percentDone = fileData.byteLength === 0 ?\n",
              "          100 :\n",
              "          Math.round((position / fileData.byteLength) * 100);\n",
              "      percent.textContent = `${percentDone}% done`;\n",
              "\n",
              "    } while (position < fileData.byteLength);\n",
              "  }\n",
              "\n",
              "  // All done.\n",
              "  yield {\n",
              "    response: {\n",
              "      action: 'complete',\n",
              "    }\n",
              "  };\n",
              "}\n",
              "\n",
              "scope.google = scope.google || {};\n",
              "scope.google.colab = scope.google.colab || {};\n",
              "scope.google.colab._files = {\n",
              "  _uploadFiles,\n",
              "  _uploadFilesContinue,\n",
              "};\n",
              "})(self);\n",
              "</script> "
            ]
          },
          "metadata": {}
        },
        {
          "output_type": "stream",
          "name": "stdout",
          "text": [
            "Saving spam.md to spam.md\n"
          ]
        }
      ]
    },
    {
      "cell_type": "code",
      "source": [
        "# convert md file into array of a single string\n",
        "\n",
        "import markdown\n",
        "from bs4 import BeautifulSoup\n",
        "html = markdown.markdown(open(\"spam.md\").read())\n",
        "test = \"\".join(BeautifulSoup(html).findAll(text=True))\n",
        "\n",
        "test1 = \"\"\n",
        "for c in test:\n",
        "  if (c.isalpha() or c==\" \"):\n",
        "    test1+=c\n",
        "  else:\n",
        "    test1+=\" \"\n",
        "\n",
        "test1 = test1.lower()\n",
        "x = [test1]\n",
        "x"
      ],
      "metadata": {
        "id": "xzThyZBY6uo8",
        "colab": {
          "base_uri": "https://localhost:8080/"
        },
        "outputId": "b993c8c5-599d-4568-d955-29fe40aa1d1e"
      },
      "execution_count": null,
      "outputs": [
        {
          "output_type": "execute_result",
          "data": {
            "text/plain": [
              "['free entry in   a wkly comp to win fa cup final tkts   st may       text fa to       to receive entry question std txt rate t c s apply            over   s']"
            ]
          },
          "metadata": {},
          "execution_count": 52
        }
      ]
    },
    {
      "cell_type": "code",
      "source": [
        "#@title\n",
        "y = \"o until jurong point, crazy.. Available only in bugis n great world la e buffet... Cine there got amore wat...\" #@param {type:\"string\"}\n",
        "x = [y]"
      ],
      "metadata": {
        "id": "uhuzA4VFkYD6"
      },
      "execution_count": null,
      "outputs": []
    },
    {
      "cell_type": "code",
      "source": [
        "# convert x into \"testable\" type\n",
        "\n",
        "x = tokenizer.texts_to_sequences(x)\n",
        "x = pad_sequences(x, maxlen=maxlen)\n",
        "x"
      ],
      "metadata": {
        "id": "1zW4tG3a7euN",
        "colab": {
          "base_uri": "https://localhost:8080/"
        },
        "outputId": "f4b2ae4f-eb2d-4092-dded-d23b54f079e1"
      },
      "execution_count": null,
      "outputs": [
        {
          "output_type": "execute_result",
          "data": {
            "text/plain": [
              "array([[   0,    0,    0,    0,    0,    0,    0,    0,    0,    0,    0,\n",
              "           0,    0,    0,    0,    0,    0,    0,    0,    0,    0,    0,\n",
              "           0,    0,    0,    0,    0,    0,    0,    0,    0,    0,    0,\n",
              "           0,    0,    0,    0,    0,    0,    0,    0,    0,    0,    0,\n",
              "           0,    0,    0,    0,    0,    0,    0,    0,    0,    0,    0,\n",
              "           0,    0,    0,    0,    0,    0,    0,    0,    0,    0,    0,\n",
              "           0,    0,    0,    0,    0,    0,    0,    0,    0,    0,    0,\n",
              "           0,    0,    0, 1060,  393, 5508, 1028,  965,  709,   64,    9,\n",
              "        1709,   83,  131,  440, 3440,  139, 6017, 1488,   86,   51, 5512,\n",
              "         184]], dtype=int32)"
            ]
          },
          "metadata": {},
          "execution_count": 69
        }
      ]
    },
    {
      "cell_type": "code",
      "source": [
        "# gives prediction \n",
        "# 1 is spam, 0 is ham\n",
        "model.predict(x)"
      ],
      "metadata": {
        "id": "CEFiMUpX7hVI",
        "colab": {
          "base_uri": "https://localhost:8080/"
        },
        "outputId": "511e9517-291c-433f-d65b-0e4eccd6d5c1"
      },
      "execution_count": null,
      "outputs": [
        {
          "output_type": "execute_result",
          "data": {
            "text/plain": [
              "array([[0.00025195]], dtype=float32)"
            ]
          },
          "metadata": {},
          "execution_count": 70
        }
      ]
    },
    {
      "cell_type": "code",
      "source": [
        "!mkdir -p \"./data/\"\n",
        "model.save(\"./data/model.h5\")"
      ],
      "metadata": {
        "id": "MXM4BB7mGrQN"
      },
      "execution_count": null,
      "outputs": []
    },
    {
      "cell_type": "markdown",
      "source": [
        "# **Anvil Server (Not used)**"
      ],
      "metadata": {
        "id": "XyGZbu5FKxd6"
      }
    },
    {
      "cell_type": "code",
      "source": [
        "@anvil.server.callable\n",
        "def main(x):\n",
        "  test1 = \"\"\n",
        "  for c in x:\n",
        "    if (c.isalpha() or c==\" \"):\n",
        "      test1+=c\n",
        "    else:\n",
        "      test1+=\" \"\n",
        "\n",
        "  test1 = test1.lower()\n",
        "  x = [test1]\n",
        "\n",
        "  x = tokenizer.texts_to_sequences(x)\n",
        "  x = pad_sequences(x, maxlen=maxlen)\n",
        "  prediction = model.predict(x)\n",
        "  return prediction"
      ],
      "metadata": {
        "id": "YjST5OQx9SIp"
      },
      "execution_count": null,
      "outputs": []
    },
    {
      "cell_type": "code",
      "source": [
        "anvil.server.wait_forever()"
      ],
      "metadata": {
        "colab": {
          "base_uri": "https://localhost:8080/",
          "height": 252
        },
        "id": "VPId9eBh91H-",
        "outputId": "30537ef6-2e0d-473c-800b-4a37e743d83b"
      },
      "execution_count": null,
      "outputs": [
        {
          "output_type": "error",
          "ename": "KeyboardInterrupt",
          "evalue": "ignored",
          "traceback": [
            "\u001b[0;31m---------------------------------------------------------------------------\u001b[0m",
            "\u001b[0;31mKeyboardInterrupt\u001b[0m                         Traceback (most recent call last)",
            "\u001b[0;32m<ipython-input-62-95cac3476493>\u001b[0m in \u001b[0;36m<module>\u001b[0;34m\u001b[0m\n\u001b[0;32m----> 1\u001b[0;31m \u001b[0manvil\u001b[0m\u001b[0;34m.\u001b[0m\u001b[0mserver\u001b[0m\u001b[0;34m.\u001b[0m\u001b[0mwait_forever\u001b[0m\u001b[0;34m(\u001b[0m\u001b[0;34m)\u001b[0m\u001b[0;34m\u001b[0m\u001b[0;34m\u001b[0m\u001b[0m\n\u001b[0m",
            "\u001b[0;32m/usr/local/lib/python3.7/dist-packages/anvil/server.py\u001b[0m in \u001b[0;36mwait_forever\u001b[0;34m()\u001b[0m\n\u001b[1;32m    430\u001b[0m     \u001b[0m_get_connection\u001b[0m\u001b[0;34m(\u001b[0m\u001b[0;34m)\u001b[0m\u001b[0;34m\u001b[0m\u001b[0;34m\u001b[0m\u001b[0m\n\u001b[1;32m    431\u001b[0m     \u001b[0;32mwhile\u001b[0m \u001b[0;32mTrue\u001b[0m\u001b[0;34m:\u001b[0m\u001b[0;34m\u001b[0m\u001b[0;34m\u001b[0m\u001b[0m\n\u001b[0;32m--> 432\u001b[0;31m         \u001b[0mtime\u001b[0m\u001b[0;34m.\u001b[0m\u001b[0msleep\u001b[0m\u001b[0;34m(\u001b[0m\u001b[0;36m1\u001b[0m\u001b[0;34m)\u001b[0m\u001b[0;34m\u001b[0m\u001b[0;34m\u001b[0m\u001b[0m\n\u001b[0m",
            "\u001b[0;31mKeyboardInterrupt\u001b[0m: "
          ]
        }
      ]
    }
  ],
  "metadata": {
    "accelerator": "GPU",
    "colab": {
      "collapsed_sections": [
        "YScfJWEjjysZ"
      ],
      "provenance": [],
      "include_colab_link": true
    },
    "kernelspec": {
      "display_name": "Python 3",
      "name": "python3"
    },
    "language_info": {
      "name": "python"
    }
  },
  "nbformat": 4,
  "nbformat_minor": 0
}